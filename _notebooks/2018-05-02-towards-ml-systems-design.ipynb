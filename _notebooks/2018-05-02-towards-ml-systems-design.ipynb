{
 "cells": [
  {
   "cell_type": "markdown",
   "metadata": {},
   "source": [
    "#### Towards Machine Learning Systems Design\n",
    "\n",
    "#### 2018-05-02\n",
    "\n",
    "#### Neil D. Lawrence\n",
    "\n",
    "#### Amazon Research Cambridge and University of Sheffield\n",
    "\n",
    "`@lawrennd` [inverseprobability.com](http://inverseprobability.com)\n",
    "\n",
    "### What is Machine Learning?\n",
    "\n",
    "First of all, we'll consider the question, what is machine learning? By\n",
    "my definition Machine Learning is a combination of\n",
    "\n",
    "$$\\text{data} + \\text{model} \\rightarrow \\text{prediction}$$\n",
    "\n",
    "where *data* is our observations. They can be actively or passively\n",
    "acquired (meta-data). The *model* contains our assumptions, based on\n",
    "previous experience. THat experience can be other data, it can come from\n",
    "transfer learning, or it can merely be our beliefs about the\n",
    "regularities of the universe. In humans our models include our inductive\n",
    "biases. The *prediction* is an action to be taken or a categorization or\n",
    "a quality score. The reason that machine learning has become a mainstay\n",
    "of artificial intelligence is the importance of predictions in\n",
    "artificial intelligence.\n",
    "\n",
    "In practice we normally perform machine learning using two functions. To\n",
    "combine data with a model we typically make use of:\n",
    "\n",
    "**a prediction function** a function which is used to make the\n",
    "predictions. It includes our beliefs about the regularities of the\n",
    "universe, our assumptions about how the world works, e.g. smoothness,\n",
    "spatial similarities, temporal similarities.\n",
    "\n",
    "**an objective function** a function which defines the cost of\n",
    "misprediction. Typically it includes knowledge about the world's\n",
    "generating processes (probabilistic objectives) or the costs we pay for\n",
    "mispredictions (empiricial risk minimization).\n",
    "\n",
    "The combination of data and model through the prediction function and\n",
    "the objectie function leads to a *learning algorithm*. The class of\n",
    "prediction functions and objective functions we can make use of is\n",
    "restricted by the algorithms they lead to. If the prediction function or\n",
    "the objective function are too complex, then it can be difficult to find\n",
    "an appropriate learning algorithm.\n",
    "\n",
    "A useful reference for state of the art in machine learning is the UK\n",
    "Royal Society Report, [Machine Learning: Power and Promise of Computers\n",
    "that Learn by\n",
    "Example](https://royalsociety.org/~/media/policy/projects/machine-learning/publications/machine-learning-report.pdf).\n",
    "\n",
    "You can also check my blog post on [\"What is Machine\n",
    "Learning?\"](http://inverseprobability.com/2017/07/17/what-is-machine-learning)\n",
    "\n",
    "### Machine Learning as the Driver ...\n",
    "\n",
    "... of two different domains\n",
    "\n",
    "1.  *Data Science*: arises from the fact that we now capture data by\n",
    "    happenstance.\n",
    "\n",
    "2.  *Artificial Intelligence*: emulation of human behaviour.\n",
    "\n",
    "### What does Machine Learning do?\n",
    "\n",
    "-   ML Automates through Data\n",
    "    -   *Strongly* related to statistics.\n",
    "    -   Field underpins revolution in *data science* and *AI*\n",
    "-   With AI: logic, *robotics*, *computer vision*, *speech*\n",
    "-   With Data Science: *databases*, *data mining*, *statistics*,\n",
    "    *visualization*\n",
    "\n",
    "### \"Embodiment Factors\"\n",
    "\n",
    "<table>\n",
    "<tr>\n",
    "<td>\n",
    "</td>\n",
    "<td align=\"center\">\n",
    "<img src=\"../slides/diagrams/IBM_Blue_Gene_P_supercomputer.jpg\" width=\"60%\" style=\"background:none; border:none; box-shadow:none;\" align=\"center\">\n",
    "</td>\n",
    "<td align=\"center\">\n",
    "<img src=\"../slides/diagrams/ClaudeShannon_MFO3807.jpg\" width=\"100%\" style=\"background:none; border:none; box-shadow:none;\" align=\"center\">\n",
    "</td>\n",
    "</tr>\n",
    "<tr>\n",
    "<td>\n",
    "compute\n",
    "</td>\n",
    "<td align=\"center\">\n",
    "\\~10 gigaflops\n",
    "</td>\n",
    "<td align=\"center\">\n",
    "\\~ 1000 teraflops?\n",
    "</td>\n",
    "</tr>\n",
    "<tr>\n",
    "<td>\n",
    "communicate\n",
    "</td>\n",
    "<td align=\"center\">\n",
    "\\~1 gigbit/s\n",
    "</td>\n",
    "<td align=\"center\">\n",
    "\\~ 100 bit/s\n",
    "</tr>\n",
    "<td>\n",
    "(compute/communicate)\n",
    "</td>\n",
    "<td align=\"center\">\n",
    "10\n",
    "</td>\n",
    "<td align=\"center\">\n",
    "\\~ 10<sup>13</sup>\n",
    "</tr>\n",
    "</table>\n",
    "See [\"Living Together: Mind and Machine\n",
    "Intelligence\"](https://arxiv.org/abs/1705.07996)"
   ]
  },
  {
   "cell_type": "code",
   "execution_count": null,
   "metadata": {},
   "outputs": [],
   "source": [
    "import pods\n",
    "pods.notebook.display_plots('information-flow{sample:0>3}.svg', \n",
    "                            '../slides/diagrams/data-science', sample=(1,3))"
   ]
  },
  {
   "cell_type": "markdown",
   "metadata": {},
   "source": [
    "### What does Machine Learning do?\n",
    "\n",
    "-   We scale by codifying processes and automating them.\n",
    "    -   Ensure components are compatible (Whitworth threads)\n",
    "    -   Then interconnect them as efficiently as possible.\n",
    "    -   cf Colt 45, Ford Model T\n",
    "\n",
    "### Codify Through Mathematical Functions\n",
    "\n",
    "-   How does machine learning work?\n",
    "\n",
    "-   Jumper (jersey/sweater) purchase with logistic regression\n",
    "\n",
    "$$ \\text{odds} = \\frac{\\text{bought}}{\\text{not bought}} $$\n",
    "\n",
    "$$ \\log \\text{odds}  = \\beta_0 + \\beta_1 \\text{age} + \\beta_2 \\text{latitude}$$\n",
    "\n",
    "### Codify Through Mathematical Functions\n",
    "\n",
    "-   How does machine learning work?\n",
    "\n",
    "-   Jumper (jersey/sweater) purchase with logistic regression\n",
    "\n",
    "$$ p(\\text{bought}) =  {f}\\left(\\beta_0 + \\beta_1 \\text{age} + \\beta_2 \\text{latitude}\\right)$$\n",
    "\n",
    "### Codify Through Mathematical Functions\n",
    "\n",
    "-   How does machine learning work?\n",
    "\n",
    "-   Jumper (jersey/sweater) purchase with logistic regression\n",
    "\n",
    "$$ p(\\text{bought}) =  {f}\\left(\\boldsymbol{\\beta}^\\top {{\\bf {x}}}\\right)$$\n",
    "\n",
    ". . .\n",
    "\n",
    "We call ${f}(\\cdot)$ the *prediction function*\n",
    "\n",
    "### Fit to Data\n",
    "\n",
    "-   Use an objective function\n",
    "\n",
    "$${E}(\\boldsymbol{\\beta}, {\\mathbf{Y}}, {{\\bf X}})$$\n",
    "\n",
    ". . .\n",
    "\n",
    "-   E.g. least squares\n",
    "\n",
    "$${E}(\\boldsymbol{\\beta}) = \\sum_{i=1}^{n}\\left({y}_i - {f}({{\\bf {x}}}_i)\\right)^2$$\n",
    "\n",
    "### Two Components\n",
    "\n",
    "-   Prediction function, ${f}(\\cdot)$\n",
    "\n",
    "-   Objective function, ${E}(\\cdot)$\n",
    "\n",
    "### Deep Learning\n",
    "\n",
    "-   These are interpretable models: vital for disease etc.\n",
    "\n",
    "-   Modern machine learning methods are less interpretable\n",
    "\n",
    "-   Example: face recognition\n",
    "\n",
    "### \n",
    "\n",
    "<small>Outline of the DeepFace architecture. A front-end of a single\n",
    "convolution-pooling-convolution filtering on the rectified input,\n",
    "followed by three locally-connected layers and two fully-connected\n",
    "layers. Color illustrates feature maps produced at each layer. The net\n",
    "includes more than 120 million parameters, where more than 95% come from\n",
    "the local and fully connected.</small>\n",
    "\n",
    "<img class=\"\" src=\"../slides/diagrams/deepface_neg.png\" width=\"100%\" align=\"\" style=\"background:none; border:none; box-shadow:none;\">\n",
    "\n",
    "<p align=\"right\">\n",
    "<small>Source: DeepFace</small>\n",
    "</p>\n",
    "### \n",
    "\n",
    "<img class=\"\" src=\"../slides/diagrams/576px-Early_Pinball.jpg\" width=\"30%\" align=\"\" style=\"background:none; border:none; box-shadow:none;\">\n",
    "\n",
    "We can think of what these models are doing as being similar to early\n",
    "pin ball machines. In a neural network, we input a number (or numbers),\n",
    "whereas in pinball, we input a ball. The location of the ball on the\n",
    "left-right axis can be thought of as the number. As the ball falls\n",
    "through the machine, each layer of pins can be thought of as a different\n",
    "layer of neurons. Each layer acts to move the ball from left to right.\n",
    "\n",
    "In a pinball machine, when the ball gets to the bottom it might fall\n",
    "into a hole defining a score, in a neural network, that is equivalent to\n",
    "the decision: a classification of the input object.\n",
    "\n",
    "An image has more than one number associated with it, so it's like\n",
    "playing pinball in a *hyper-space*."
   ]
  },
  {
   "cell_type": "code",
   "execution_count": null,
   "metadata": {},
   "outputs": [],
   "source": [
    "import pods\n",
    "pods.notebook.display_plots('pinball{sample:0>3}.svg', \n",
    "                            '../slides/diagrams', sample=(1,2))"
   ]
  },
  {
   "cell_type": "markdown",
   "metadata": {},
   "source": [
    "At initialization, the pins aren't in the right place to bring the ball\n",
    "to the correct decision.\n",
    "\n",
    "Learning involves moving all the pins to be in the right position, so\n",
    "that the ball falls in the right place. But moving all these pins in\n",
    "hyperspace can be difficult. In a hyper space you have to put a lot of\n",
    "data through the machine for to explore the positions of all the pins.\n",
    "Adversarial learning reflects the fact that a ball can be moved a small\n",
    "distance and lead to a very different result.\n",
    "\n",
    "Probabilistic methods explore more of the space by considering a range\n",
    "of possible paths for the ball through the machine."
   ]
  },
  {
   "cell_type": "code",
   "execution_count": null,
   "metadata": {},
   "outputs": [],
   "source": [
    "import numpy as np\n",
    "import teaching_plots as plot"
   ]
  },
  {
   "cell_type": "code",
   "execution_count": null,
   "metadata": {},
   "outputs": [],
   "source": [
    "%load -s compute_kernel mlai.py"
   ]
  },
  {
   "cell_type": "code",
   "execution_count": null,
   "metadata": {},
   "outputs": [],
   "source": [
    "%load -s eq_cov mlai.py"
   ]
  },
  {
   "cell_type": "code",
   "execution_count": null,
   "metadata": {},
   "outputs": [],
   "source": [
    "np.random.seed(10)\n",
    "plot.rejection_samples(compute_kernel, kernel=eq_cov, \n",
    "                       lengthscale=0.25, diagrams='../slides/diagrams/gp')"
   ]
  },
  {
   "cell_type": "code",
   "execution_count": null,
   "metadata": {},
   "outputs": [],
   "source": [
    "import pods\n",
    "pods.notebook.display_plots('gp_rejection_samples{sample:0>3}.svg', \n",
    "                            '../slides/diagrams/gp', sample=(1,5))"
   ]
  },
  {
   "cell_type": "code",
   "execution_count": null,
   "metadata": {},
   "outputs": [],
   "source": [
    "import pods\n",
    "import matplotlib.pyplot as plt"
   ]
  },
  {
   "cell_type": "markdown",
   "metadata": {},
   "source": [
    "### Olympic Marathon Data\n",
    "\n",
    "The first thing we will do is load a standard data set for regression\n",
    "modelling. The data consists of the pace of Olympic Gold Medal Marathon\n",
    "winners for the Olympics from 1896 to present. First we load in the data\n",
    "and plot."
   ]
  },
  {
   "cell_type": "code",
   "execution_count": null,
   "metadata": {},
   "outputs": [],
   "source": [
    "data = pods.datasets.olympic_marathon_men()\n",
    "x = data['X']\n",
    "y = data['Y']\n",
    "\n",
    "offset = y.mean()\n",
    "scale = np.sqrt(y.var())\n",
    "\n",
    "xlim = (1875,2030)\n",
    "ylim = (2.5, 6.5)\n",
    "yhat = (y-offset)/scale\n",
    "\n",
    "fig, ax = plt.subplots(figsize=plot.big_wide_figsize)\n",
    "_ = ax.plot(x, y, 'r.',markersize=10)\n",
    "ax.set_xlabel('year', fontsize=20)\n",
    "ax.set_ylabel('pace min/km', fontsize=20)\n",
    "ax.set_xlim(xlim)\n",
    "ax.set_ylim(ylim)\n",
    "\n",
    "mlai.write_figure(figure=fig, filename='../slides/diagrams/datasets/olympic-marathon.svg', transparent=True, frameon=True)"
   ]
  },
  {
   "cell_type": "markdown",
   "metadata": {},
   "source": [
    "### Olympic Marathon Data\n",
    "\n",
    "<table>\n",
    "<tr>\n",
    "<td width=\"70%\">\n",
    "-   Gold medal times for Olympic Marathon since 1896.\n",
    "\n",
    "-   Marathons before 1924 didn’t have a standardised distance.\n",
    "\n",
    "-   Present results using pace per km.\n",
    "\n",
    "-   In 1904 Marathon was badly organised leading to very slow times.\n",
    "\n",
    "</td>\n",
    "<td width=\"30%\">\n",
    "![image](../slides/diagrams/Stephen_Kiprotich.jpg) <small>Image from\n",
    "Wikimedia Commons <http://bit.ly/16kMKHQ></small>\n",
    "</td>\n",
    "</tr>\n",
    "</table>\n",
    "<img src=\"../slides/diagrams/ml/olympic_marathon.svg\" align=\"\">\n",
    "\n",
    "Things to notice about the data include the outlier in 1904, in this\n",
    "year, the olympics was in St Louis, USA. Organizational problems and\n",
    "challenges with dust kicked up by the cars following the race meant that\n",
    "participants got lost, and only very few participants completed.\n",
    "\n",
    "More recent years see more consistently quick marathons.\n",
    "\n",
    "Our first objective will be to perform a Gaussian process fit to the\n",
    "data, we'll do this using the [GPy\n",
    "software](https://github.com/SheffieldML/GPy)."
   ]
  },
  {
   "cell_type": "code",
   "execution_count": null,
   "metadata": {},
   "outputs": [],
   "source": [
    "m_full = GPy.models.GPRegression(x,yhat)\n",
    "_ = m_full.optimize() # Optimize parameters of covariance function"
   ]
  },
  {
   "cell_type": "markdown",
   "metadata": {},
   "source": [
    "The first command sets up the model, then"
   ]
  },
  {
   "cell_type": "code",
   "execution_count": null,
   "metadata": {},
   "outputs": [],
   "source": [
    "m_full.optimize()"
   ]
  },
  {
   "cell_type": "markdown",
   "metadata": {},
   "source": [
    "optimizes the parameters of the covariance function and the noise level\n",
    "of the model. Once the fit is complete, we'll try creating some test\n",
    "points, and computing the output of the GP model in terms of the mean\n",
    "and standard deviation of the posterior functions between 1870 and 2030.\n",
    "We plot the mean function and the standard deviation at 200 locations.\n",
    "We can obtain the predictions using"
   ]
  },
  {
   "cell_type": "code",
   "execution_count": null,
   "metadata": {},
   "outputs": [],
   "source": [
    "y_mean, y_var = m_full.predict(xt)"
   ]
  },
  {
   "cell_type": "code",
   "execution_count": null,
   "metadata": {},
   "outputs": [],
   "source": [
    "xt = np.linspace(1870,2030,200)[:,np.newaxis]\n",
    "yt_mean, yt_var = m_full.predict(xt)\n",
    "yt_sd=np.sqrt(yt_var)"
   ]
  },
  {
   "cell_type": "markdown",
   "metadata": {},
   "source": [
    "Now we plot the results using the helper function in `teaching_plots`."
   ]
  },
  {
   "cell_type": "code",
   "execution_count": null,
   "metadata": {},
   "outputs": [],
   "source": [
    "import teaching_plots as plot"
   ]
  },
  {
   "cell_type": "code",
   "execution_count": null,
   "metadata": {},
   "outputs": [],
   "source": [
    "fig, ax = plt.subplots(figsize=plot.big_wide_figsize)\n",
    "plot.model_output(m_full, scale=scale, offset=offset, ax=ax, xlabel='year', ylabel='pace min/km', fontsize=20, portion=0.2)\n",
    "ax.set_xlim(xlim)\n",
    "ax.set_ylim(ylim)\n",
    "mlai.write_figure(figure=fig,\n",
    "                  filename='../slides/diagrams/gp/olympic-marathon-gp.svg', \n",
    "                  transparent=True, frameon=True)"
   ]
  },
  {
   "cell_type": "markdown",
   "metadata": {},
   "source": [
    "<img src=\"../slides/diagrams/gp/olympic-marathon-gp.svg\" align=\"\">\n",
    "\n",
    "### Fit Quality\n",
    "\n",
    "In the fit we see that the error bars (coming mainly from the noise\n",
    "variance) are quite large. This is likely due to the outlier point in\n",
    "1904, ignoring that point we can see that a tighter fit is obtained. To\n",
    "see this making a version of the model, `m_clean`, where that point is\n",
    "removed."
   ]
  },
  {
   "cell_type": "code",
   "execution_count": null,
   "metadata": {},
   "outputs": [],
   "source": [
    "x_clean=np.vstack((x[0:2, :], x[3:, :]))\n",
    "y_clean=np.vstack((y[0:2, :], y[3:, :]))\n",
    "\n",
    "m_clean = GPy.models.GPRegression(x_clean,y_clean)\n",
    "_ = m_clean.optimize()"
   ]
  },
  {
   "cell_type": "markdown",
   "metadata": {},
   "source": [
    "### Deep GP Fit\n",
    "\n",
    "Let's see if a deep Gaussian process can help here. We will construct a\n",
    "deep Gaussian process with one hidden layer (i.e. one Gaussian process\n",
    "feeding into another).\n",
    "\n",
    "Build a Deep GP with an additional hidden layer (one dimensional) to fit\n",
    "the model."
   ]
  },
  {
   "cell_type": "code",
   "execution_count": null,
   "metadata": {},
   "outputs": [],
   "source": [
    "hidden = 1\n",
    "m = deepgp.DeepGP([y.shape[1],hidden,x.shape[1]],Y=yhat, X=x, inits=['PCA','PCA'], \n",
    "                  kernels=[GPy.kern.RBF(hidden,ARD=True),\n",
    "                           GPy.kern.RBF(x.shape[1],ARD=True)], # the kernels for each layer\n",
    "                  num_inducing=50, back_constraint=False)"
   ]
  },
  {
   "cell_type": "markdown",
   "metadata": {},
   "source": [
    "Deep Gaussian process models also can require some thought in\n",
    "initialization. Here we choose to start by setting the noise variance to\n",
    "be one percent of the data variance.\n",
    "\n",
    "Optimization requires moving variational parameters in the hidden layer\n",
    "representing the mean and variance of the expected values in that layer.\n",
    "Since all those values can be scaled up, and this only results in a\n",
    "downscaling in the output of the first GP, and a downscaling of the\n",
    "input length scale to the second GP. It makes sense to first of all fix\n",
    "the scales of the covariance function in each of the GPs.\n",
    "\n",
    "Sometimes, deep Gaussian processes can find a local minima which\n",
    "involves increasing the noise level of one or more of the GPs. This\n",
    "often occurs because it allows a minimum in the KL divergence term in\n",
    "the lower bound on the likelihood. To avoid this minimum we habitually\n",
    "train with the likelihood variance (the noise on the output of the GP)\n",
    "fixed to some lower value for some iterations.\n",
    "\n",
    "Let's create a helper function to initialize the models we use in the\n",
    "notebook."
   ]
  },
  {
   "cell_type": "code",
   "execution_count": null,
   "metadata": {},
   "outputs": [],
   "source": [
    "def initialize(self, noise_factor=0.01, linear_factor=1):\n",
    "    \"\"\"Helper function for deep model initialization.\"\"\"\n",
    "    self.obslayer.likelihood.variance = self.Y.var()*noise_factor\n",
    "    for layer in self.layers:\n",
    "        if type(layer.X) is GPy.core.parameterization.variational.NormalPosterior:\n",
    "            if layer.kern.ARD:\n",
    "                var = layer.X.mean.var(0)\n",
    "            else:\n",
    "                var = layer.X.mean.var()\n",
    "        else:\n",
    "            if layer.kern.ARD:\n",
    "                var = layer.X.var(0)\n",
    "            else:\n",
    "                var = layer.X.var()\n",
    "\n",
    "        # Average 0.5 upcrossings in four standard deviations. \n",
    "        layer.kern.lengthscale = linear_factor*np.sqrt(layer.kern.input_dim)*2*4*np.sqrt(var)/(2*np.pi)\n",
    "# Bind the new method to the Deep GP object.\n",
    "deepgp.DeepGP.initialize=initialize"
   ]
  },
  {
   "cell_type": "code",
   "execution_count": null,
   "metadata": {},
   "outputs": [],
   "source": [
    "# Call the initalization\n",
    "m.initialize()"
   ]
  },
  {
   "cell_type": "markdown",
   "metadata": {},
   "source": [
    "Now optimize the model. The first stage of optimization is working on\n",
    "variational parameters and lengthscales only."
   ]
  },
  {
   "cell_type": "code",
   "execution_count": null,
   "metadata": {},
   "outputs": [],
   "source": [
    "m.optimize(messages=False,max_iters=100)"
   ]
  },
  {
   "cell_type": "markdown",
   "metadata": {},
   "source": [
    "Now we remove the constraints on the scale of the covariance functions\n",
    "associated with each GP and optimize again."
   ]
  },
  {
   "cell_type": "code",
   "execution_count": null,
   "metadata": {},
   "outputs": [],
   "source": [
    "for layer in m.layers:\n",
    "    pass #layer.kern.variance.constrain_positive(warning=False)\n",
    "m.obslayer.kern.variance.constrain_positive(warning=False)\n",
    "m.optimize(messages=False,max_iters=100)"
   ]
  },
  {
   "cell_type": "markdown",
   "metadata": {},
   "source": [
    "Finally, we allow the noise variance to change and optimize for a large\n",
    "number of iterations."
   ]
  },
  {
   "cell_type": "code",
   "execution_count": null,
   "metadata": {},
   "outputs": [],
   "source": [
    "for layer in m.layers:\n",
    "    layer.likelihood.variance.constrain_positive(warning=False)\n",
    "m.optimize(messages=True,max_iters=10000)"
   ]
  },
  {
   "cell_type": "markdown",
   "metadata": {},
   "source": [
    "For our optimization process we define a new function."
   ]
  },
  {
   "cell_type": "code",
   "execution_count": null,
   "metadata": {},
   "outputs": [],
   "source": [
    "def staged_optimize(self, iters=(1000,1000,10000), messages=(False, False, True)):\n",
    "    \"\"\"Optimize with parameters constrained and then with parameters released\"\"\"\n",
    "    for layer in self.layers:\n",
    "        # Fix the scale of each of the covariance functions.\n",
    "        layer.kern.variance.fix(warning=False)\n",
    "        layer.kern.lengthscale.fix(warning=False)\n",
    "\n",
    "        # Fix the variance of the noise in each layer.\n",
    "        layer.likelihood.variance.fix(warning=False)\n",
    "\n",
    "    self.optimize(messages=messages[0],max_iters=iters[0])\n",
    "    \n",
    "    for layer in self.layers:\n",
    "        layer.kern.lengthscale.constrain_positive(warning=False)\n",
    "    self.obslayer.kern.variance.constrain_positive(warning=False)\n",
    "\n",
    "\n",
    "    self.optimize(messages=messages[1],max_iters=iters[1])\n",
    "\n",
    "    for layer in self.layers:\n",
    "        layer.kern.variance.constrain_positive(warning=False)\n",
    "        layer.likelihood.variance.constrain_positive(warning=False)\n",
    "    self.optimize(messages=messages[2],max_iters=iters[2])\n",
    "    \n",
    "# Bind the new method to the Deep GP object.\n",
    "deepgp.DeepGP.staged_optimize=staged_optimize"
   ]
  },
  {
   "cell_type": "code",
   "execution_count": null,
   "metadata": {},
   "outputs": [],
   "source": [
    "m.staged_optimize(messages=(True,True,True))"
   ]
  },
  {
   "cell_type": "markdown",
   "metadata": {},
   "source": [
    "### Plot the prediction\n",
    "\n",
    "The prediction of the deep GP can be extracted in a similar way to the\n",
    "normal GP. Although, in this case, it is an approximation to the true\n",
    "distribution, because the true distribution is not Gaussian."
   ]
  },
  {
   "cell_type": "code",
   "execution_count": null,
   "metadata": {},
   "outputs": [],
   "source": [
    "fig, ax = plt.subplots(figsize=plot.big_wide_figsize)\n",
    "plot.model_output(m, scale=scale, offset=offset, ax=ax, xlabel='year', ylabel='pace min/km', \n",
    "          fontsize=20, portion=0.2)\n",
    "ax.set_xlim(xlim)\n",
    "\n",
    "ax.set_ylim(ylim)\n",
    "mlai.write_figure(figure=fig, filename='../slides/diagrams/deepgp/olympic-marathon-deep-gp.svg', \n",
    "                transparent=True, frameon=True)"
   ]
  },
  {
   "cell_type": "markdown",
   "metadata": {},
   "source": [
    "### Olympic Marathon Data Deep GP\n",
    "\n",
    "<img src=\"../slides/diagrams/deepgp/olympic-marathon-deep-gp.svg\" align=\"\">"
   ]
  },
  {
   "cell_type": "code",
   "execution_count": null,
   "metadata": {},
   "outputs": [],
   "source": [
    "def posterior_sample(self, X, **kwargs):\n",
    "    \"\"\"Give a sample from the posterior of the deep GP.\"\"\"\n",
    "    Z = X\n",
    "    for i, layer in enumerate(reversed(self.layers)):\n",
    "        Z = layer.posterior_samples(Z, size=1, **kwargs)[:, :, 0]\n",
    " \n",
    "    return Z\n",
    "deepgp.DeepGP.posterior_sample = posterior_sample"
   ]
  },
  {
   "cell_type": "code",
   "execution_count": null,
   "metadata": {},
   "outputs": [],
   "source": [
    "fig, ax = plt.subplots(figsize=plot.big_wide_figsize)\n",
    "plot.model_sample(m, scale=scale, offset=offset, samps=10, ax=ax, \n",
    "                  xlabel='year', ylabel='pace min/km', portion = 0.225)\n",
    "ax.set_xlim(xlim)\n",
    "ax.set_ylim(ylim)\n",
    "mlai.write_figure(figure=fig, filename='../slides/diagrams/deepgp/olympic-marathon-deep-gp-samples.svg', \n",
    "                  transparent=True, frameon=True)"
   ]
  },
  {
   "cell_type": "markdown",
   "metadata": {},
   "source": [
    "### Olympic Marathon Data Deep GP {#olympic-marathon-data-deep-gp-1 data-transition=\"None\"}\n",
    "\n",
    "<img src=\"../slides/diagrams/deepgp/olympic-marathon-deep-gp-samples.svg\" align=\"\">\n",
    "\n",
    "### Fitted GP for each layer\n",
    "\n",
    "Now we explore the GPs the model has used to fit each layer. First of\n",
    "all, we look at the hidden layer."
   ]
  },
  {
   "cell_type": "code",
   "execution_count": null,
   "metadata": {},
   "outputs": [],
   "source": [
    "def visualize(self, scale=1.0, offset=0.0, xlabel='input', ylabel='output', \n",
    "              xlim=None, ylim=None, fontsize=20, portion=0.2,dataset=None, \n",
    "              diagrams='../diagrams'):\n",
    "    \"\"\"Visualize the layers in a deep GP with one-d input and output.\"\"\"\n",
    "    depth = len(self.layers)\n",
    "    if dataset is None:\n",
    "        fname = 'deep-gp-layer'\n",
    "    else:\n",
    "        fname = dataset + '-deep-gp-layer'\n",
    "    filename = os.path.join(diagrams, fname)\n",
    "    last_name = xlabel\n",
    "    last_x = self.X\n",
    "    for i, layer in enumerate(reversed(self.layers)):\n",
    "        if i>0:\n",
    "            plt.plot(last_x, layer.X.mean, 'r.',markersize=10)\n",
    "            last_x=layer.X.mean\n",
    "            ax=plt.gca()\n",
    "            name = 'layer ' + str(i)\n",
    "            plt.xlabel(last_name, fontsize=fontsize)\n",
    "            plt.ylabel(name, fontsize=fontsize)\n",
    "            last_name=name\n",
    "            mlai.write_figure(filename=filename + '-' + str(i-1) + '.svg', \n",
    "                              transparent=True, frameon=True)\n",
    "            \n",
    "        if i==0 and xlim is not None:\n",
    "            xt = plot.pred_range(np.array(xlim), portion=0.0)\n",
    "        elif i>0:\n",
    "            xt = plot.pred_range(np.array(next_lim), portion=0.0)\n",
    "        else:\n",
    "            xt = plot.pred_range(last_x, portion=portion)\n",
    "        yt_mean, yt_var = layer.predict(xt)\n",
    "        if layer==self.obslayer:\n",
    "            yt_mean = yt_mean*scale + offset\n",
    "            yt_var *= scale*scale\n",
    "        yt_sd = np.sqrt(yt_var)\n",
    "        gpplot(xt,yt_mean,yt_mean-2*yt_sd,yt_mean+2*yt_sd)\n",
    "        ax = plt.gca()\n",
    "        if i>0:\n",
    "            ax.set_xlim(next_lim)\n",
    "        elif xlim is not None:\n",
    "            ax.set_xlim(xlim)\n",
    "        next_lim = plt.gca().get_ylim()\n",
    "        \n",
    "    plt.plot(last_x, self.Y*scale + offset, 'r.',markersize=10)\n",
    "    plt.xlabel(last_name, fontsize=fontsize)\n",
    "    plt.ylabel(ylabel, fontsize=fontsize)\n",
    "    mlai.write_figure(filename=filename + '-' + str(i) + '.svg', \n",
    "                      transparent=True, frameon=True)\n",
    "\n",
    "    if ylim is not None:\n",
    "        ax=plt.gca()\n",
    "        ax.set_ylim(ylim)\n",
    "\n",
    "# Bind the new method to the Deep GP object.\n",
    "deepgp.DeepGP.visualize=visualize"
   ]
  },
  {
   "cell_type": "code",
   "execution_count": null,
   "metadata": {},
   "outputs": [],
   "source": [
    "m.visualize(scale=scale, offset=offset, xlabel='year',\n",
    "            ylabel='pace min/km',xlim=xlim, ylim=ylim,\n",
    "            dataset='olympic-marathon',\n",
    "            diagrams='../slides/diagrams/deepgp')"
   ]
  },
  {
   "cell_type": "code",
   "execution_count": null,
   "metadata": {},
   "outputs": [],
   "source": [
    "import pods\n",
    "pods.notebook.display_plots('olympic-marathon-deep-gp-layer-{sample:0>1}.svg', \n",
    "                            '../slides/diagrams/deepgp', sample=(0,1))"
   ]
  },
  {
   "cell_type": "code",
   "execution_count": null,
   "metadata": {},
   "outputs": [],
   "source": [
    "def scale_data(x, portion):     \n",
    "    scale = (x.max()-x.min())/(1-2*portion)\n",
    "    offset = x.min() - portion*scale\n",
    "    return (x-offset)/scale, scale, offset\n",
    "\n",
    "def visualize_pinball(self, ax=None, scale=1.0, offset=0.0, xlabel='input', ylabel='output', \n",
    "                  xlim=None, ylim=None, fontsize=20, portion=0.2, points=50, vertical=True):\n",
    "    \"\"\"Visualize the layers in a deep GP with one-d input and output.\"\"\"\n",
    "\n",
    "    if ax is None:\n",
    "        fig, ax = plt.subplots(figsize=plot.big_wide_figsize)\n",
    "\n",
    "    depth = len(self.layers)\n",
    "\n",
    "    last_name = xlabel\n",
    "    last_x = self.X\n",
    "\n",
    "    # Recover input and output scales from output plot\n",
    "    plot_model_output(self, scale=scale, offset=offset, ax=ax, \n",
    "                      xlabel=xlabel, ylabel=ylabel, \n",
    "                      fontsize=fontsize, portion=portion)\n",
    "    xlim=ax.get_xlim()\n",
    "    xticks=ax.get_xticks()\n",
    "    xtick_labels=ax.get_xticklabels().copy()\n",
    "    ylim=ax.get_ylim()\n",
    "    yticks=ax.get_yticks()\n",
    "    ytick_labels=ax.get_yticklabels().copy()\n",
    "\n",
    "    # Clear axes and start again\n",
    "    ax.cla()\n",
    "    if vertical:\n",
    "        ax.set_xlim((0, 1))\n",
    "        ax.invert_yaxis()\n",
    "\n",
    "        ax.set_ylim((depth, 0))\n",
    "    else:\n",
    "        ax.set_ylim((0, 1))\n",
    "        ax.set_xlim((0, depth))\n",
    "        \n",
    "    ax.set_axis_off()#frame_on(False)\n",
    "\n",
    "\n",
    "    def pinball(x, y, y_std, color_scale=None, \n",
    "                layer=0, depth=1, ax=None, \n",
    "                alpha=1.0, portion=0.0, vertical=True):  \n",
    "\n",
    "        scaledx, xscale, xoffset = scale_data(x, portion=portion)\n",
    "        scaledy, yscale, yoffset = scale_data(y, portion=portion)\n",
    "        y_std /= yscale\n",
    "\n",
    "        # Check whether data is anti-correlated on output\n",
    "        if np.dot((scaledx-0.5).T, (scaledy-0.5))<0:\n",
    "            scaledy=1-scaledy\n",
    "            flip=-1\n",
    "        else:\n",
    "            flip=1\n",
    "\n",
    "        if color_scale is not None:\n",
    "            color_scale, _, _=scale_data(color_scale, portion=0)\n",
    "        scaledy = (1-alpha)*scaledx + alpha*scaledy\n",
    "\n",
    "        def color_value(x, cmap=None, width=None, centers=None):\n",
    "            \"\"\"Return color as a function of position along x axis\"\"\"\n",
    "            if cmap is None:\n",
    "                cmap = np.asarray([[1, 0, 0], [1, 1, 0], [0, 1, 0]])\n",
    "            ncenters = cmap.shape[0]\n",
    "            if centers is None:\n",
    "                centers = np.linspace(0+0.5/ncenters, 1-0.5/ncenters, ncenters)\n",
    "            if width is None:\n",
    "                width = 0.25/ncenters\n",
    "            \n",
    "            r = (x-centers)/width\n",
    "            weights = np.exp(-0.5*r*r).flatten()\n",
    "            weights /=weights.sum()\n",
    "            weights = weights[:, np.newaxis]\n",
    "            return np.dot(cmap.T, weights).flatten()\n",
    "\n",
    "\n",
    "        for i in range(x.shape[0]):\n",
    "            if color_scale is not None:\n",
    "                color = color_value(color_scale[i])\n",
    "            else:\n",
    "                color=(1, 0, 0)\n",
    "            x_plot = np.asarray((scaledx[i], scaledy[i])).flatten()\n",
    "            y_plot = np.asarray((layer, layer+alpha)).flatten()\n",
    "            if vertical:\n",
    "                ax.plot(x_plot, y_plot, color=color, alpha=0.5, linewidth=3)\n",
    "                ax.plot(x_plot, y_plot, color='k', alpha=0.5, linewidth=0.5)\n",
    "            else:\n",
    "                ax.plot(y_plot, x_plot, color=color, alpha=0.5, linewidth=3)\n",
    "                ax.plot(y_plot, x_plot, color='k', alpha=0.5, linewidth=0.5)\n",
    "\n",
    "            # Plot error bars that increase as sqrt of distance from start.\n",
    "            std_points = 50\n",
    "            stdy = np.linspace(0, alpha,std_points)\n",
    "            stdx = np.sqrt(stdy)*y_std[i]\n",
    "            stdy += layer\n",
    "            mean_vals = np.linspace(scaledx[i], scaledy[i], std_points)\n",
    "            upper = mean_vals+stdx \n",
    "            lower = mean_vals-stdx \n",
    "            fillcolor=color\n",
    "            x_errorbars=np.hstack((upper,lower[::-1]))\n",
    "            y_errorbars=np.hstack((stdy,stdy[::-1]))\n",
    "            if vertical:\n",
    "                ax.fill(x_errorbars,y_errorbars,\n",
    "                        color=fillcolor, alpha=0.1)\n",
    "                ax.plot(scaledy[i], layer+alpha, '.',markersize=10, color=color, alpha=0.5)\n",
    "            else:\n",
    "                ax.fill(y_errorbars,x_errorbars,\n",
    "                        color=fillcolor, alpha=0.1)\n",
    "                ax.plot(layer+alpha, scaledy[i], '.',markersize=10, color=color, alpha=0.5)\n",
    "            # Marker to show end point\n",
    "        return flip\n",
    "\n",
    "\n",
    "    # Whether final axis is flipped\n",
    "    flip = 1\n",
    "    first_x=last_x\n",
    "    for i, layer in enumerate(reversed(self.layers)):     \n",
    "        if i==0:\n",
    "            xt = plot.pred_range(last_x, portion=portion, points=points)\n",
    "            color_scale=xt\n",
    "        yt_mean, yt_var = layer.predict(xt)\n",
    "        if layer==self.obslayer:\n",
    "            yt_mean = yt_mean*scale + offset\n",
    "            yt_var *= scale*scale\n",
    "        yt_sd = np.sqrt(yt_var)\n",
    "        flip = flip*pinball(xt,yt_mean,yt_sd,color_scale,portion=portion, \n",
    "                            layer=i, ax=ax, depth=depth,vertical=vertical)#yt_mean-2*yt_sd,yt_mean+2*yt_sd)\n",
    "        xt = yt_mean\n",
    "    # Make room for axis labels\n",
    "    if vertical:\n",
    "        ax.set_ylim((2.1, -0.1))\n",
    "        ax.set_xlim((-0.02, 1.02))\n",
    "        ax.set_yticks(range(depth,0,-1))\n",
    "    else:\n",
    "        ax.set_xlim((-0.1, 2.1))\n",
    "        ax.set_ylim((-0.02, 1.02))\n",
    "        ax.set_xticks(range(0, depth))\n",
    "        \n",
    "    def draw_axis(ax, scale=1.0, offset=0.0, level=0.0, flip=1, \n",
    "                  label=None,up=False, nticks=10, ticklength=0.05,\n",
    "                  vertical=True,\n",
    "                 fontsize=20):\n",
    "        def clean_gap(gap):\n",
    "            nsf = np.log10(gap)\n",
    "            if nsf>0:\n",
    "                nsf = np.ceil(nsf)\n",
    "            else:\n",
    "                nsf = np.floor(nsf)\n",
    "            lower_gaps = np.asarray([0.005, 0.01, 0.02, 0.03, 0.04, 0.05, \n",
    "                                     0.1, 0.25, 0.5, \n",
    "                                     1, 1.5, 2, 2.5, 3, 4, 5, 10, 25, 50, 100])\n",
    "            upper_gaps = np.asarray([1, 2, 3, 4, 5, 10])\n",
    "            if nsf >2 or nsf<-2:\n",
    "                d = np.abs(gap-upper_gaps*10**nsf)\n",
    "                ind = np.argmin(d)\n",
    "                return upper_gaps[ind]*10**nsf\n",
    "            else:\n",
    "                d = np.abs(gap-lower_gaps)\n",
    "                ind = np.argmin(d)\n",
    "                return lower_gaps[ind]\n",
    "            \n",
    "        tickgap = clean_gap(scale/(nticks-1))\n",
    "        nticks = int(scale/tickgap) + 1\n",
    "        tickstart = np.round(offset/tickgap)*tickgap\n",
    "        ticklabels = np.asarray(range(0, nticks))*tickgap + tickstart\n",
    "        ticks = (ticklabels-offset)/scale\n",
    "        axargs = {'color':'k', 'linewidth':1}\n",
    "        \n",
    "        if not up:\n",
    "            ticklength=-ticklength\n",
    "        tickspot = np.linspace(0, 1, nticks)\n",
    "        if flip < 0:\n",
    "            ticks = 1-ticks\n",
    "        for tick, ticklabel in zip(ticks, ticklabels):\n",
    "            if vertical:\n",
    "                ax.plot([tick, tick], [level, level-ticklength], **axargs)\n",
    "                ax.text(tick, level-ticklength*2, ticklabel, horizontalalignment='center', \n",
    "                        fontsize=fontsize/2)\n",
    "                ax.text(0.5, level-5*ticklength, label, horizontalalignment='center', fontsize=fontsize)\n",
    "            else:\n",
    "                ax.plot([level, level-ticklength], [tick, tick],  **axargs)\n",
    "                ax.text(level-ticklength*2, tick, ticklabel, horizontalalignment='center', \n",
    "                        fontsize=fontsize/2)\n",
    "                ax.text(level-5*ticklength, 0.5, label, horizontalalignment='center', fontsize=fontsize)\n",
    "        \n",
    "        if vertical:\n",
    "            xlim = list(ax.get_xlim())\n",
    "            if ticks.min()<xlim[0]:\n",
    "                xlim[0] = ticks.min()\n",
    "            if ticks.max()>xlim[1]:\n",
    "                xlim[1] = ticks.max()\n",
    "            ax.set_xlim(xlim)\n",
    "            \n",
    "            ax.plot([ticks.min(), ticks.max()], [level, level], **axargs)\n",
    "        else:\n",
    "            ylim = list(ax.get_ylim())\n",
    "            if ticks.min()<ylim[0]:\n",
    "                ylim[0] = ticks.min()\n",
    "            if ticks.max()>ylim[1]:\n",
    "                ylim[1] = ticks.max()\n",
    "            ax.set_ylim(ylim)\n",
    "            ax.plot([level, level], [ticks.min(), ticks.max()], **axargs)\n",
    "\n",
    "\n",
    "    _, xscale, xoffset = scale_data(first_x, portion=portion)\n",
    "    _, yscale, yoffset = scale_data(yt_mean, portion=portion)\n",
    "    draw_axis(ax=ax, scale=xscale, offset=xoffset, level=0.0, label=xlabel, \n",
    "              up=True, vertical=vertical)\n",
    "    draw_axis(ax=ax, scale=yscale, offset=yoffset, \n",
    "              flip=flip, level=depth, label=ylabel, up=False, vertical=vertical)\n",
    "    \n",
    "    #for txt in xticklabels:\n",
    "    #    txt.set\n",
    "# Bind the new method to the Deep GP object.\n",
    "deepgp.DeepGP.visualize_pinball=visualize_pinball"
   ]
  },
  {
   "cell_type": "code",
   "execution_count": null,
   "metadata": {},
   "outputs": [],
   "source": [
    "fig, ax = plt.subplots(figsize=plot.big_wide_figsize)\n",
    "m.visualize_pinball(ax=ax, scale=scale, offset=offset, points=30, portion=0.1,\n",
    "                    xlabel='year', ylabel='pace km/min', vertical=True)\n",
    "mlai.write_figure(figure=fig, filename='../slides/diagrams/deepgp/olympic-marathon-deep-gp-pinball.svg', \n",
    "                  transparent=True, frameon=True)"
   ]
  },
  {
   "cell_type": "markdown",
   "metadata": {},
   "source": [
    "### Olympic Marathon Pinball Plot\n",
    "\n",
    "<img src=\"../slides/diagrams/deepgp/olympic-marathon-deep-gp-pinball.svg\" align=\"\">\n",
    "\n",
    "The pinball plot shows the flow of any input ball through the deep\n",
    "Gaussian process. In a pinball plot a series of vertical parallel lines\n",
    "would indicate a purely linear function. For the olypmic marathon data\n",
    "we can see the first layer begins to shift from input towards the right.\n",
    "Note it also does so with some uncertainty (indicated by the shaded\n",
    "backgrounds). The second layer has less uncertainty, but bunches the\n",
    "inputs more strongly to the right. This input layer of uncertainty,\n",
    "followed by a layer that pushes inputs to the right is what gives the\n",
    "heteroschedastic noise.\n",
    "\n",
    "<!-- ### Data Science\n",
    "\n",
    "* Industrial Revolution 4.0?\n",
    "\n",
    "* *Industrial Revolution* (1760-1840) term coined by Arnold Toynbee,\n",
    "late 19th century.\n",
    "\n",
    "* Maybe: But this one is dominated by *data* not *capital*\n",
    "\n",
    "* That presents *challenges* and *opportunities* \n",
    "\n",
    "cf\n",
    "[digital oligarchy](https://www.theguardian.com/media-network/2015/mar/05/digital-oligarchy-algorithms-personal-data)\n",
    "vs [how Africa can benefit from the data revolution](https://www.theguardian.com/media-network/2015/aug/25/africa-benefit-data-science-information)\n",
    "\n",
    "* Apple vs Nokia: How you handle disruption.\n",
    "\n",
    "\n",
    "### A Time for Professionalisation?\n",
    "\n",
    "* New technologies historically led to new professions:\n",
    "    * Brunel (born 1806): Civil, mechanical, naval\n",
    "    * Tesla (born 1856): Electrical and power\n",
    "    * William Shockley (born 1910): Electronic \n",
    "    * Watts S. Humphrey (born 1927): Software\n",
    "\n",
    "### Why?\n",
    "\n",
    "* Codification of best practice.\n",
    "* Developing trust\n",
    "\n",
    "### Where are we?\n",
    "\n",
    "* Perhaps around the 1980s of programming.\n",
    "    * We understand ```if```, ```for```, and procedures\n",
    "    * But we don't share best practice.\n",
    "\n",
    "* Let's *avoid* the over formalisation of software engineering.\n",
    "\n",
    " -->\n",
    "<!-- \n",
    "### The Software Crisis\n",
    "\n",
    ">The major cause of the software crisis is that the machines have\n",
    ">become several orders of magnitude more powerful! To put it quite\n",
    ">bluntly: as long as there were no machines, programming was no problem\n",
    ">at all; when we had a few weak computers, programming became a mild\n",
    ">problem, and now we have gigantic computers, programming has become an\n",
    ">equally gigantic problem.\n",
    ">\n",
    "> Edsger Dijkstra, The Humble Programmer\n",
    "\n",
    "### The Data Crisis\n",
    "\n",
    ">The major cause of the data crisis is that machines have become more\n",
    ">interconnected than ever before. Data access is therefore cheap, but\n",
    ">data quality is often poor. What we need is cheap high quality\n",
    ">data. That implies that we develop processes for improving and\n",
    ">verifying data quality that are efficient.\n",
    ">\n",
    ">There would seem to be two ways for improving efficiency. Firstly, we\n",
    ">should not duplicate work. Secondly, where possible we should automate\n",
    ">work. \n",
    ">\n",
    "> Me\n",
    " -->\n",
    "<!-- ### Rest of this Talk: Two Areas of Focus  -->\n",
    "<!-- * Reusability of Data -->\n",
    "<!-- * Deployment of Machine Learning Systems -->\n",
    "<!-- ### Rest of this Talk: Two Areas of Focus  -->\n",
    "<!-- * <s>Reusability of Data</s> -->\n",
    "<!-- * Deployment of Machine Learning Systems -->\n",
    "<!--### Data Readiness Levels\n",
    "\n",
    "[<img class=\"\" src=\"../slides/diagrams/data-science/data-readiness-levels.png\" width=\"\" align=\"\" style=\"background:none; border:none; box-shadow:none;\">](https://arxiv.org/pdf/1705.02245.pdf)\n",
    "\n",
    "\n",
    "   [Data Readiness Levels](http://inverseprobability.com/2017/01/12/data-readiness-levels)\n",
    "\n",
    "### Three Grades of Data Readiness:\n",
    "\n",
    "* Grade C - accessibility\n",
    "\n",
    "* Grade B - validity\n",
    "\n",
    "* Grade A - usability\n",
    "\n",
    "\n",
    "### Accessibility: Grade C\n",
    "\n",
    "* *Hearsay* data.\n",
    "* Availability, is it actually being recorded?\n",
    "* privacy or legal constraints on the accessibility of the recorded data, have ethical constraints been alleviated?\n",
    "* Format: log books, PDF ...\n",
    "* limitations on access due to topology (e.g. it's distributed across a number of devices)\n",
    "* At the end of Grade C data is ready to be loaded into analysis software (R, SPSS, Matlab, Python, Mathematica)\n",
    "\n",
    "### Validity: Grade B\n",
    "\n",
    "* faithfulness and representation\n",
    "* visualisations.\n",
    "* exploratory data analysis\n",
    "* noise characterisation.\n",
    "* Missing values.\n",
    "* Schema alignment, record linkage, data fusion? \n",
    "* Example, was a column or columns accidentally perturbed (e.g. through a sort operation that missed one or more columns)? Or was a [gene name accidentally converted to a date](http://bmcbioinformatics.biomedcentral.com/articles/10.1186/1471-2105-5-80)?\n",
    "* At the end of Grade B, ready to define a candidate question, the\n",
    "  context, load into OpenML\n",
    "\n",
    "### Usability: Grade A\n",
    "\n",
    "* The usability of data\n",
    "* Grade A is about data in context.\n",
    "* Consider appropriateness of a given data set to answer a particular\n",
    "question or to be subject to a particular analysis.\n",
    "* Data integration?\n",
    "* At the end of Grade A it's ready for data platforms such as RAMP, Kaggle, define a *task* in OpenML.\n",
    "\n",
    "-->\n",
    "### Artificial Intelligence\n",
    "\n",
    "-   Challenges in deploying AI.\n",
    "\n",
    "-   Currently this is in the form of \"machine learning systems\"\n",
    "\n",
    "### Internet of People\n",
    "\n",
    "-   Fog computing: barrier between cloud and device blurring.\n",
    "    -   Computing on the Edge\n",
    "-   Complex feedback between algorithm and implementation\n",
    "\n",
    "### Deploying ML in Real World: Machine Learning Systems Design\n",
    "\n",
    "-   Major new challenge for systems designers.\n",
    "\n",
    "-   Internet of Intelligence but currently:\n",
    "    -   AI systems are *fragile*\n",
    "\n",
    "### Fragility of AI Systems\n",
    "\n",
    "The way we are deploying artificial intelligence systems in practice is\n",
    "to build up systems of machine learning components. To build a machine\n",
    "learning system, we decompose the task into parts which we can emulate\n",
    "with ML methods. Each of these parts can be, typically, independently\n",
    "constructed and verified. For example, in a driverless car we can\n",
    "decompose the tasks into components such as \"pedestrian detection\" and\n",
    "\"road line detection\". Each of these components can be constructed with,\n",
    "for example, an independent classifier. We can then superimpose a logic\n",
    "on top. For example, \"Follow the road line unless you detect a\n",
    "pedestrian in the road\".\n",
    "\n",
    "This allows for verification of car performance, as long as we can\n",
    "verify the individual components. However, it also implies that the AI\n",
    "systems we deploy are *fragile*.\n",
    "\n",
    "### Rapid Reimplementation\n",
    "\n",
    "### Early AI\n",
    "\n",
    "<img class=\"rotateimg90\" src=\"../slides/diagrams/2017-10-12 16.47.34.jpg\" width=\"40%\" align=\"\" style=\"background:none; border:none; box-shadow:none;\">\n",
    "\n",
    "### Machine Learning Systems Design\n",
    "\n",
    "<img class=\"\" src=\"../slides/diagrams/SteamEngine_Boulton&Watt_1784_neg.png\" width=\"50%\" align=\"\" style=\"background:none; border:none; box-shadow:none;\">\n",
    "\n",
    "### Adversaries\n",
    "\n",
    "-   Stuxnet\n",
    "-   Mischevious-Adversarial\n",
    "\n",
    "### Turnaround And Update\n",
    "\n",
    "-   There is a massive need for turn around and update\n",
    "-   A redeploy of the entire system.\n",
    "    -   This involves changing the way we design and deploy.\n",
    "-   Interface between security engineering and machine learning.\n",
    "\n",
    "### Peppercorns\n",
    "\n",
    "-   A new name for system failures which aren't bugs.\n",
    "-   Difference between finding a fly in your soup vs a peppercorn in\n",
    "    your soup.\n",
    "\n",
    "<!--\n",
    "### {.slide: data-transition=\"none\"}\n",
    "\n",
    "<center><video height=\"600\" type=\"video/mp4\"><source src=\"../slides/diagrams/paolo-peppercorn.mp4\" height=\"80%\"></video></center>\n",
    "\n",
    "### {.slide: data-transition=\"none\"}\n",
    "\n",
    "<center><video type=\"video/mp4\"><source src=\"../slides/diagrams/paolo-save.mp4\"></video></center>\n",
    "-->\n",
    "### Uncertainty Quantification\n",
    "\n",
    "-   Deep nets are powerful approach to images, speech, language.\n",
    "\n",
    "-   Proposal: Deep GPs may also be a great approach, but better to\n",
    "    deploy according to natural strengths.\n",
    "\n",
    "### Uncertainty Quantification\n",
    "\n",
    "-   Probabilistic numerics, surrogate modelling, emulation, and UQ.\n",
    "\n",
    "-   Not a fan of AI as a term.\n",
    "\n",
    "-   But we are faced with increasing amounts of *algorithmic decision\n",
    "    making*.\n",
    "\n",
    "### ML and Decision Making\n",
    "\n",
    "-   When trading off decisions: compute or acquire data?\n",
    "\n",
    "-   There is a critical need for uncertainty.\n",
    "\n",
    "### Uncertainty Quantification\n",
    "\n",
    "> Uncertainty quantification (UQ) is the science of quantitative\n",
    "> characterization and reduction of uncertainties in both computational\n",
    "> and real world applications. It tries to determine how likely certain\n",
    "> outcomes are if some aspects of the system are not exactly known.\n",
    "\n",
    "-   Interaction between physical and virtual worlds of major interest\n",
    "    for Amazon.\n",
    "\n",
    "We will to illustrate different concepts of [Uncertainty\n",
    "Quantification](https://en.wikipedia.org/wiki/Uncertainty_quantification)\n",
    "(UQ) and the role that Gaussian processes play in this field. Based on a\n",
    "simple simulator of a car moving between a valley and a mountain, we are\n",
    "going to illustrate the following concepts:\n",
    "\n",
    "-   **Systems emulation**. Many real world decisions are based on\n",
    "    simulations that can be computationally very demanding. We will show\n",
    "    how simulators can be replaced by *emulators*: Gaussian process\n",
    "    models fitted on a few simulations that can be used to replace the\n",
    "    *simulator*. Emulators are cheap to compute, fast to run, and always\n",
    "    provide ways to quantify the uncertainty of how precise they are\n",
    "    compared the original simulator.\n",
    "\n",
    "-   **Emulators in optimization problems**. We will show how emulators\n",
    "    can be used to optimize black-box functions that are expensive to\n",
    "    evaluate. This field is also called Bayesian Optimization and has\n",
    "    gained an increasing relevance in machine learning as emulators can\n",
    "    be used to optimize computer simulations (and machine learning\n",
    "    algorithms) quite efficiently.\n",
    "\n",
    "-   **Multi-fidelity emulation methods**. In many scenarios we have\n",
    "    simulators of different quality about the same measure of interest.\n",
    "    In these cases the goal is to merge all sources of information under\n",
    "    the same model so the final emulator is cheaper and more accurate\n",
    "    than an emulator fitted only using data from the most accurate and\n",
    "    expensive simulator.\n",
    "\n",
    "### Example: Formula One Racing\n",
    "\n",
    "-   Designing an F1 Car requires CFD, Wind Tunnel, Track Testing etc.\n",
    "\n",
    "-   How to combine them?\n",
    "\n",
    "### Mountain Car Simulator\n",
    "\n",
    "To illustrate the above mentioned concepts we we use the [mountain car\n",
    "simulator](https://github.com/openai/gym/wiki/MountainCarContinuous-v0).\n",
    "This simulator is widely used in machine learning to test reinforcement\n",
    "learning algorithms. The goal is to define a control policy on a car\n",
    "whose objective is to climb a mountain. Graphically, the problem looks\n",
    "as follows:\n",
    "\n",
    "<img class=\"\" src=\"../slides/diagrams/uq/mountaincar.png\" width=\"negate\" align=\"\" style=\"background:none; border:none; box-shadow:none;\">\n",
    "\n",
    "The goal is to define a sequence of actions (push the car right or left\n",
    "with certain intensity) to make the car reach the flag after a number\n",
    "$T$ of time steps.\n",
    "\n",
    "At each time step $t$, the car is characterized by a vector\n",
    "${{\\bf {x}}}_{t} = (p_t,v_t)$ of states which are respectively the the\n",
    "position and velocity of the car at time $t$. For a sequence of states\n",
    "(an episode), the dynamics of the car is given by\n",
    "\n",
    "$${{\\bf {x}}}_{t+1} = {f}({{\\bf {x}}}_{t},\\textbf{u}_{t})$$\n",
    "\n",
    "where $\\textbf{u}_{t}$ is the value of an action force, which in this\n",
    "example corresponds to push car to the left (negative value) or to the\n",
    "right (positive value). The actions across a full episode are\n",
    "represented in a policy $\\textbf{u}_{t} = \\pi({{\\bf {x}}}_{t},\\theta)$\n",
    "that acts according to the current state of the car and some parameters\n",
    "$\\theta$. In the following examples we will assume that the policy is\n",
    "linear which allows us to write $\\pi({{\\bf {x}}}_{t},\\theta)$ as\n",
    "\n",
    "$$\\pi({{\\bf {x}}},\\theta)= \\theta_0 + \\theta_p p + \\theta_vv.$$\n",
    "\n",
    "For $t=1,\\dots,T$ now given some initial state ${{\\bf {x}}}_{0}$ and\n",
    "some some values of each $\\textbf{u}_{t}$, we can **simulate** the full\n",
    "dynamics of the car for a full episode using\n",
    "[Gym](https://gym.openai.com/envs/). The values of $\\textbf{u}_{t}$ are\n",
    "fully determined by the parameters of the linear controller.\n",
    "\n",
    "After each episode of length $T$ is complete, a reward function\n",
    "$R_{T}(\\theta)$ is computed. In the mountain car example the reward is\n",
    "computed as 100 for reaching the target of the hill on the right hand\n",
    "side, minus the squared sum of actions (a real negative to push to the\n",
    "left and a real positive to push to the right) from start to goal. Note\n",
    "that our reward depend on $\\theta$ as we make it dependent on the\n",
    "parameters of the linear controller.\n",
    "\n",
    "### Emulate the Mountain Car"
   ]
  },
  {
   "cell_type": "code",
   "execution_count": null,
   "metadata": {},
   "outputs": [],
   "source": [
    "import gym"
   ]
  },
  {
   "cell_type": "code",
   "execution_count": null,
   "metadata": {},
   "outputs": [],
   "source": [
    "env = gym.make('MountainCarContinuous-v0')"
   ]
  },
  {
   "cell_type": "markdown",
   "metadata": {},
   "source": [
    "Our goal in this section is to find the parameters $\\theta$ of the\n",
    "linear controller such that\n",
    "\n",
    "$$\\theta^* = arg \\max_{\\theta} R_T(\\theta).$$\n",
    "\n",
    "In this section, we directly use Bayesian optimization to solve this\n",
    "problem. We will use [GPyOpt](https://sheffieldml.github.io/GPyOpt/) so\n",
    "we first define the objective function:"
   ]
  },
  {
   "cell_type": "code",
   "execution_count": null,
   "metadata": {},
   "outputs": [],
   "source": [
    "import mountain_car as mc\n",
    "import GPyOpt"
   ]
  },
  {
   "cell_type": "code",
   "execution_count": null,
   "metadata": {},
   "outputs": [],
   "source": [
    "obj_func = lambda x: mc.run_simulation(env, x)[0]\n",
    "objective = GPyOpt.core.task.SingleObjective(obj_func)"
   ]
  },
  {
   "cell_type": "markdown",
   "metadata": {},
   "source": [
    "For each set of parameter values of the linear controller we can run an\n",
    "episode of the simulator (that we fix to have a horizon of $T=500$) to\n",
    "generate the reward. Using as input the parameters of the controller and\n",
    "as outputs the rewards we can build a Gaussian process emulator of the\n",
    "reward.\n",
    "\n",
    "We start defining the input space, which is three-dimensional:"
   ]
  },
  {
   "cell_type": "code",
   "execution_count": null,
   "metadata": {},
   "outputs": [],
   "source": [
    "## --- We define the input space of the emulator\n",
    "\n",
    "space= [{'name':'postion_parameter', 'type':'continuous', 'domain':(-1.2, +1)},\n",
    "        {'name':'velocity_parameter', 'type':'continuous', 'domain':(-1/0.07, +1/0.07)},\n",
    "        {'name':'constant', 'type':'continuous', 'domain':(-1, +1)}]\n",
    "\n",
    "design_space = GPyOpt.Design_space(space=space)"
   ]
  },
  {
   "cell_type": "markdown",
   "metadata": {},
   "source": [
    "Now we initizialize a Gaussian process emulator."
   ]
  },
  {
   "cell_type": "code",
   "execution_count": null,
   "metadata": {},
   "outputs": [],
   "source": [
    "model = GPyOpt.models.GPModel(optimize_restarts=5, verbose=False, exact_feval=True, ARD=True)"
   ]
  },
  {
   "cell_type": "markdown",
   "metadata": {},
   "source": [
    "In Bayesian optimization an acquisition function is used to balance\n",
    "exploration and exploitation to evaluate new locations close to the\n",
    "optimum of the objective. In this notebook we select the expected\n",
    "improvement (EI). For further details have a look to the review paper of\n",
    "[Shahriari et al\n",
    "(2015)](http://www.cs.ox.ac.uk/people/nando.defreitas/publications/BayesOptLoop.pdf)."
   ]
  },
  {
   "cell_type": "code",
   "execution_count": null,
   "metadata": {},
   "outputs": [],
   "source": [
    "aquisition_optimizer = GPyOpt.optimization.AcquisitionOptimizer(design_space)\n",
    "acquisition = GPyOpt.acquisitions.AcquisitionEI(model, design_space, optimizer=aquisition_optimizer)\n",
    "evaluator = GPyOpt.core.evaluators.Sequential(acquisition) # Collect points sequentially, no parallelization."
   ]
  },
  {
   "cell_type": "markdown",
   "metadata": {},
   "source": [
    "To initalize the model we start sampling some initial points (25) for\n",
    "the linear controler randomly."
   ]
  },
  {
   "cell_type": "code",
   "execution_count": null,
   "metadata": {},
   "outputs": [],
   "source": [
    "from GPyOpt.experiment_design.random_design import RandomDesign"
   ]
  },
  {
   "cell_type": "code",
   "execution_count": null,
   "metadata": {},
   "outputs": [],
   "source": [
    "n_initial_points = 25\n",
    "random_design = RandomDesign(design_space)\n",
    "initial_design = random_design.get_samples(n_initial_points)"
   ]
  },
  {
   "cell_type": "markdown",
   "metadata": {},
   "source": [
    "Before we start any optimization, lets have a look to the behavior of\n",
    "the car with the first of these initial points that we have selected\n",
    "randomly."
   ]
  },
  {
   "cell_type": "code",
   "execution_count": null,
   "metadata": {},
   "outputs": [],
   "source": [
    "import numpy as np"
   ]
  },
  {
   "cell_type": "code",
   "execution_count": null,
   "metadata": {},
   "outputs": [],
   "source": [
    "random_controller = initial_design[0,:]\n",
    "_, _, _, frames = mc.run_simulation(env, np.atleast_2d(random_controller), render=True)\n",
    "anim=mc.animate_frames(frames, 'Random linear controller')"
   ]
  },
  {
   "cell_type": "code",
   "execution_count": null,
   "metadata": {},
   "outputs": [],
   "source": [
    "from IPython.core.display import HTML"
   ]
  },
  {
   "cell_type": "code",
   "execution_count": null,
   "metadata": {},
   "outputs": [],
   "source": [
    "HTML(anim.to_jshtml())"
   ]
  },
  {
   "cell_type": "code",
   "execution_count": null,
   "metadata": {},
   "outputs": [],
   "source": [
    "mc.save_frames(frames, \n",
    "                  diagrams='../slides/diagrams/uq', \n",
    "                  filename='mountain_car_random.html')"
   ]
  },
  {
   "cell_type": "markdown",
   "metadata": {},
   "source": [
    "<iframe src=\"../slides/diagrams/uq/mountain_car_random.html\" width=\"1024\" height=\"768\" allowtransparency=\"true\" frameborder=\"0\">\n",
    "</iframe>\n",
    "As we can see the random linear controller does not manage to push the\n",
    "car to the top of the mountain. Now, let's optimize the regret using\n",
    "Bayesian optimization and the emulator for the reward. We try 50 new\n",
    "parameters chosen by the EI."
   ]
  },
  {
   "cell_type": "code",
   "execution_count": null,
   "metadata": {},
   "outputs": [],
   "source": [
    "max_iter = 50\n",
    "bo = GPyOpt.methods.ModularBayesianOptimization(model, design_space, objective, acquisition, evaluator, initial_design)\n",
    "bo.run_optimization(max_iter = max_iter )"
   ]
  },
  {
   "cell_type": "markdown",
   "metadata": {},
   "source": [
    "Now we visualize the result for the best controller that we have found\n",
    "with Bayesian optimization."
   ]
  },
  {
   "cell_type": "code",
   "execution_count": null,
   "metadata": {},
   "outputs": [],
   "source": [
    "_, _, _, frames = mc.run_simulation(env, np.atleast_2d(bo.x_opt), render=True)\n",
    "anim=mc.animate_frames(frames, 'Best controller after 50 iterations of Bayesian optimization')"
   ]
  },
  {
   "cell_type": "code",
   "execution_count": null,
   "metadata": {},
   "outputs": [],
   "source": [
    "HTML(anim.to_jshtml())"
   ]
  },
  {
   "cell_type": "code",
   "execution_count": null,
   "metadata": {},
   "outputs": [],
   "source": [
    "mc.save_frames(frames, \n",
    "                  diagrams='../slides/diagrams/uq', \n",
    "                  filename='mountain_car_simulated.html')"
   ]
  },
  {
   "cell_type": "markdown",
   "metadata": {},
   "source": [
    "<iframe src=\"../slides/diagrams/uq/mountain_car_simulated.html\" width=\"1024\" height=\"768\" allowtransparency=\"true\" frameborder=\"0\">\n",
    "</iframe>\n",
    "he car can now make it to the top of the mountain! Emulating the reward\n",
    "function and using the EI helped as to find a linear controller that\n",
    "solves the problem.\n",
    "\n",
    "### Data Efficient Emulation\n",
    "\n",
    "In the previous section we solved the mountain car problem by directly\n",
    "emulating the reward but no considerations about the dynamics\n",
    "${{\\bf {x}}}_{t+1} = {f}({{\\bf {x}}}_{t},\\textbf{u}_{t})$ of the system\n",
    "were made. Note that we had to run 75 episodes of 500 steps each to\n",
    "solve the problem, which required to call the simulator\n",
    "$500\\times 75 =37500$ times. In this section we will show how it is\n",
    "possible to reduce this number by building an emulator for $f$ that can\n",
    "later be used to directly optimize the control.\n",
    "\n",
    "The inputs of the model for the dynamics are the velocity, the position\n",
    "and the value of the control so create this space accordingly."
   ]
  },
  {
   "cell_type": "code",
   "execution_count": null,
   "metadata": {},
   "outputs": [],
   "source": [
    "import gym"
   ]
  },
  {
   "cell_type": "code",
   "execution_count": null,
   "metadata": {},
   "outputs": [],
   "source": [
    "env = gym.make('MountainCarContinuous-v0')"
   ]
  },
  {
   "cell_type": "code",
   "execution_count": null,
   "metadata": {},
   "outputs": [],
   "source": [
    "import GPyOpt"
   ]
  },
  {
   "cell_type": "code",
   "execution_count": null,
   "metadata": {},
   "outputs": [],
   "source": [
    "space_dynamics = [{'name':'position', 'type':'continuous', 'domain':[-1.2, +0.6]},\n",
    "                  {'name':'velocity', 'type':'continuous', 'domain':[-0.07, +0.07]},\n",
    "                  {'name':'action', 'type':'continuous', 'domain':[-1, +1]}]\n",
    "design_space_dynamics = GPyOpt.Design_space(space=space_dynamics)"
   ]
  },
  {
   "cell_type": "markdown",
   "metadata": {},
   "source": [
    "The outputs are the velocity and the position. Indeed our model will\n",
    "capture the change in position and velocity on time. That is, we will\n",
    "model\n",
    "\n",
    "$$\\Delta v_{t+1} = v_{t+1} - v_{t}$$\n",
    "\n",
    "$$\\Delta x_{t+1} = p_{t+1} - p_{t}$$\n",
    "\n",
    "with Gaussian processes with prior mean $v_{t}$ and $p_{t}$\n",
    "respectively. As a covariance function, we use a Matern52. We need\n",
    "therefore two models to capture the full dynamics of the system."
   ]
  },
  {
   "cell_type": "code",
   "execution_count": null,
   "metadata": {},
   "outputs": [],
   "source": [
    "position_model = GPyOpt.models.GPModel(optimize_restarts=5, verbose=False, exact_feval=True, ARD=True)\n",
    "velocity_model = GPyOpt.models.GPModel(optimize_restarts=5, verbose=False, exact_feval=True, ARD=True)"
   ]
  },
  {
   "cell_type": "markdown",
   "metadata": {},
   "source": [
    "Next, we sample some input parameters and use the simulator to compute\n",
    "the outputs. Note that in this case we are not running the full\n",
    "episodes, we are just using the simulator to compute ${{\\bf {x}}}_{t+1}$\n",
    "given ${{\\bf {x}}}_{t}$ and $\\textbf{u}_{t}$."
   ]
  },
  {
   "cell_type": "code",
   "execution_count": null,
   "metadata": {},
   "outputs": [],
   "source": [
    "import numpy as np\n",
    "from GPyOpt.experiment_design.random_design import RandomDesign\n",
    "import mountain_car as mc"
   ]
  },
  {
   "cell_type": "code",
   "execution_count": null,
   "metadata": {},
   "outputs": [],
   "source": [
    "### --- Random locations of the inputs\n",
    "n_initial_points = 500\n",
    "random_design_dynamics = RandomDesign(design_space_dynamics)\n",
    "initial_design_dynamics = random_design_dynamics.get_samples(n_initial_points)"
   ]
  },
  {
   "cell_type": "code",
   "execution_count": null,
   "metadata": {},
   "outputs": [],
   "source": [
    "### --- Simulation of the (normalized) outputs\n",
    "y = np.zeros((initial_design_dynamics.shape[0], 2))\n",
    "for i in range(initial_design_dynamics.shape[0]):\n",
    "    y[i, :] = mc.simulation(initial_design_dynamics[i, :])\n",
    "\n",
    "# Normalize the data from the simulation\n",
    "y_normalisation = np.std(y, axis=0)\n",
    "y_normalised = y/y_normalisation"
   ]
  },
  {
   "cell_type": "markdown",
   "metadata": {},
   "source": [
    "In general we might use much smarter strategies to design our emulation\n",
    "of the simulator. For example, we could use the variance of the\n",
    "predictive distributions of the models to collect points using\n",
    "uncertainty sampling, which will give us a better coverage of the space.\n",
    "For simplicity, we move ahead with the 500 randomly selected points.\n",
    "\n",
    "Now that we have a data set, we can update the emulators for the\n",
    "location and the velocity."
   ]
  },
  {
   "cell_type": "code",
   "execution_count": null,
   "metadata": {},
   "outputs": [],
   "source": [
    "position_model.updateModel(initial_design_dynamics, y[:, [0]], None, None)\n",
    "velocity_model.updateModel(initial_design_dynamics, y[:, [1]], None, None)"
   ]
  },
  {
   "cell_type": "markdown",
   "metadata": {},
   "source": [
    "We can now have a look to how the emulator and the simulator match.\n",
    "First, we show a contour plot of the car aceleration for each pair of\n",
    "can position and velocity. You can use the bar bellow to play with the\n",
    "values of the controler to compare the emulator and the simulator."
   ]
  },
  {
   "cell_type": "code",
   "execution_count": null,
   "metadata": {},
   "outputs": [],
   "source": [
    "from IPython.html.widgets import interact"
   ]
  },
  {
   "cell_type": "code",
   "execution_count": null,
   "metadata": {},
   "outputs": [],
   "source": [
    "control = mc.plot_control(velocity_model)\n",
    "interact(control.plot_slices, control=(-1, 1, 0.05))"
   ]
  },
  {
   "cell_type": "markdown",
   "metadata": {},
   "source": [
    "<!---->\n",
    "We can see how the emulator is doing a fairly good job approximating the\n",
    "simulator. On the edges, however, it struggles to captures the dynamics\n",
    "of the simulator.\n",
    "\n",
    "Given some input parameters of the linear controlling, how do the\n",
    "dynamics of the emulator and simulator match? In the following figure we\n",
    "show the position and velocity of the car for the 500 time steps of an\n",
    "episode in which the parameters of the linear controller have been fixed\n",
    "beforehand. The value of the input control is also shown."
   ]
  },
  {
   "cell_type": "code",
   "execution_count": null,
   "metadata": {},
   "outputs": [],
   "source": [
    "controller_gains = np.atleast_2d([0, .6, 1])  # change the valus of the linear controller to observe the trayectories."
   ]
  },
  {
   "cell_type": "code",
   "execution_count": null,
   "metadata": {},
   "outputs": [],
   "source": [
    "mc.emu_sim_comparison(env, controller_gains, [position_model, velocity_model], \n",
    "                      max_steps=500, diagrams='../slides/diagrams/uq')"
   ]
  },
  {
   "cell_type": "markdown",
   "metadata": {},
   "source": [
    "<img src=\"../slides/diagrams/uq/emu_sim_comparison.svg\" align=\"\">\n",
    "\n",
    "We now make explicit use of the emulator, using it to replace the\n",
    "simulator and optimize the linear controller. Note that in this\n",
    "optimization, we don't need to query the simulator anymore as we can\n",
    "reproduce the full dynamics of an episode using the emulator. For\n",
    "illustrative purposes, in this example we fix the initial location of\n",
    "the car.\n",
    "\n",
    "We define the objective reward function in terms of the simulator."
   ]
  },
  {
   "cell_type": "code",
   "execution_count": null,
   "metadata": {},
   "outputs": [],
   "source": [
    "### --- Optimize control parameters with emulator\n",
    "car_initial_location = np.asarray([-0.58912799, 0]) \n",
    "\n",
    "### --- Reward objective function using the emulator\n",
    "obj_func_emulator = lambda x: mc.run_emulation([position_model, velocity_model], x, car_initial_location)[0]\n",
    "objective_emulator = GPyOpt.core.task.SingleObjective(obj_func_emulator)"
   ]
  },
  {
   "cell_type": "markdown",
   "metadata": {},
   "source": [
    "And as before, we use Bayesian optimization to find the best possible\n",
    "linear controller."
   ]
  },
  {
   "cell_type": "code",
   "execution_count": null,
   "metadata": {},
   "outputs": [],
   "source": [
    "### --- Elements of the optimization that will use the multi-fidelity emulator\n",
    "model = GPyOpt.models.GPModel(optimize_restarts=5, verbose=False, exact_feval=True, ARD=True)"
   ]
  },
  {
   "cell_type": "markdown",
   "metadata": {},
   "source": [
    "The design space is the three continuous variables that make up the\n",
    "linear controller."
   ]
  },
  {
   "cell_type": "code",
   "execution_count": null,
   "metadata": {},
   "outputs": [],
   "source": [
    "space= [{'name':'linear_1', 'type':'continuous', 'domain':(-1/1.2, +1)},\n",
    "        {'name':'linear_2', 'type':'continuous', 'domain':(-1/0.07, +1/0.07)},\n",
    "        {'name':'constant', 'type':'continuous', 'domain':(-1, +1)}]\n",
    "\n",
    "design_space         = GPyOpt.Design_space(space=space)\n",
    "aquisition_optimizer = GPyOpt.optimization.AcquisitionOptimizer(design_space)\n",
    "\n",
    "random_design = RandomDesign(design_space)\n",
    "initial_design = random_design.get_samples(25)"
   ]
  },
  {
   "cell_type": "markdown",
   "metadata": {},
   "source": [
    "We set the acquisition function to be expected improvement using\n",
    "`GPyOpt`."
   ]
  },
  {
   "cell_type": "code",
   "execution_count": null,
   "metadata": {},
   "outputs": [],
   "source": [
    "acquisition          = GPyOpt.acquisitions.AcquisitionEI(model, design_space, optimizer=aquisition_optimizer)\n",
    "evaluator            = GPyOpt.core.evaluators.Sequential(acquisition)"
   ]
  },
  {
   "cell_type": "code",
   "execution_count": null,
   "metadata": {},
   "outputs": [],
   "source": [
    "bo_emulator = GPyOpt.methods.ModularBayesianOptimization(model, design_space, objective_emulator, acquisition, evaluator, initial_design)\n",
    "bo_emulator.run_optimization(max_iter=50)"
   ]
  },
  {
   "cell_type": "code",
   "execution_count": null,
   "metadata": {},
   "outputs": [],
   "source": [
    "_, _, _, frames = mc.run_simulation(env, np.atleast_2d(bo_emulator.x_opt), render=True)\n",
    "anim=mc.animate_frames(frames, 'Best controller using the emulator of the dynamics')"
   ]
  },
  {
   "cell_type": "code",
   "execution_count": null,
   "metadata": {},
   "outputs": [],
   "source": [
    "from IPython.core.display import HTML"
   ]
  },
  {
   "cell_type": "code",
   "execution_count": null,
   "metadata": {},
   "outputs": [],
   "source": [
    "HTML(anim.to_jshtml())"
   ]
  },
  {
   "cell_type": "code",
   "execution_count": null,
   "metadata": {},
   "outputs": [],
   "source": [
    "mc.save_frames(frames, \n",
    "                  diagrams='../slides/diagrams/uq', \n",
    "                  filename='mountain_car_emulated.html')"
   ]
  },
  {
   "cell_type": "markdown",
   "metadata": {},
   "source": [
    "<iframe src=\"../slides/diagrams/uq/mountain_car_emulated.html\" width=\"1024\" height=\"768\" allowtransparency=\"true\" frameborder=\"0\">\n",
    "</iframe>\n",
    "And the problem is again solved, but in this case we have replaced the\n",
    "simulator of the car dynamics by a Gaussian process emulator that we\n",
    "learned by calling the simulator only 500 times. Compared to the 37500\n",
    "calls that we needed when applying Bayesian optimization directly on the\n",
    "simulator this is a great gain.\n",
    "\n",
    "In some scenarios we have simulators of the same environment that have\n",
    "different fidelities, that is that reflect with different level of\n",
    "accuracy the dynamics of the real world. Running simulations of the\n",
    "different fidelities also have a different cost: hight fidelity\n",
    "simulations are more expensive the cheaper ones. If we have access to\n",
    "these simulators we can combine high and low fidelity simulations under\n",
    "the same model.\n",
    "\n",
    "So let's assume that we have two simulators of the mountain car\n",
    "dynamics, one of high fidelity (the one we have used) and another one of\n",
    "low fidelity. The traditional approach to this form of multi-fidelity\n",
    "emulation is to assume that\n",
    "\n",
    "$${f}_i\\left({{\\bf {x}}}\\right) = \\rho{f}_{i-1}\\left({{\\bf {x}}}\\right) + \\delta_i\\left({{\\bf {x}}}\\right)$$\n",
    "\n",
    "where ${f}_{i-1}\\left({{\\bf {x}}}\\right)$ is a low fidelity simulation\n",
    "of the problem of interest and ${f}_i\\left({{\\bf {x}}}\\right)$ is a\n",
    "higher fidelity simulation. The function\n",
    "$\\delta_i\\left({{\\bf {x}}}\\right)$ represents the difference between the\n",
    "lower and higher fidelity simulation, which is considered additive. The\n",
    "additive form of this covariance means that if\n",
    "${f}_{0}\\left({{\\bf {x}}}\\right)$ and\n",
    "$\\left\\{\\delta_i\\left({{\\bf {x}}}\\right)\\right\\}_{i=1}^m$ are all\n",
    "Gaussian processes, then the process over all fidelities of simuation\n",
    "will be a joint Gaussian process.\n",
    "\n",
    "But with Deep Gaussian processes we can consider the form\n",
    "\n",
    "$${f}_i\\left({{\\bf {x}}}\\right) = {g}_{i}\\left({f}_{i-1}\\left({{\\bf {x}}}\\right)\\right) + \\delta_i\\left({{\\bf {x}}}\\right),$$\n",
    "\n",
    "where the low fidelity representation is non linearly transformed by\n",
    "${g}(\\cdot)$ before use in the process. This is the approach taken in\n",
    "@Perdikaris:multifidelity17. But once we accept that these models can be\n",
    "composed, a highly flexible framework can emerge. A key point is that\n",
    "the data enters the model at different levels, and represents different\n",
    "aspects. For example these correspond to the two fidelities of the\n",
    "mountain car simulator.\n",
    "\n",
    "We start by sampling both of them at 250 random input locations."
   ]
  },
  {
   "cell_type": "code",
   "execution_count": null,
   "metadata": {},
   "outputs": [],
   "source": [
    "import gym"
   ]
  },
  {
   "cell_type": "code",
   "execution_count": null,
   "metadata": {},
   "outputs": [],
   "source": [
    "env = gym.make('MountainCarContinuous-v0')"
   ]
  },
  {
   "cell_type": "code",
   "execution_count": null,
   "metadata": {},
   "outputs": [],
   "source": [
    "import GPyOpt"
   ]
  },
  {
   "cell_type": "code",
   "execution_count": null,
   "metadata": {},
   "outputs": [],
   "source": [
    "### --- Collect points from low and high fidelity simulator --- ###\n",
    "\n",
    "space = GPyOpt.Design_space([\n",
    "        {'name':'position', 'type':'continuous', 'domain':(-1.2, +1)},\n",
    "        {'name':'velocity', 'type':'continuous', 'domain':(-0.07, +0.07)},\n",
    "        {'name':'action', 'type':'continuous', 'domain':(-1, +1)}])\n",
    "\n",
    "n_points = 250\n",
    "random_design = GPyOpt.experiment_design.RandomDesign(space)\n",
    "x_random = random_design.get_samples(n_points)"
   ]
  },
  {
   "cell_type": "markdown",
   "metadata": {},
   "source": [
    "Next, we evaluate the high and low fidelity simualtors at those\n",
    "locations."
   ]
  },
  {
   "cell_type": "code",
   "execution_count": null,
   "metadata": {},
   "outputs": [],
   "source": [
    "import numpy as np\n",
    "import mountain_car as mc"
   ]
  },
  {
   "cell_type": "code",
   "execution_count": null,
   "metadata": {},
   "outputs": [],
   "source": [
    "d_position_hf = np.zeros((n_points, 1))\n",
    "d_velocity_hf = np.zeros((n_points, 1))\n",
    "d_position_lf = np.zeros((n_points, 1))\n",
    "d_velocity_lf = np.zeros((n_points, 1))\n",
    "\n",
    "# --- Collect high fidelity points\n",
    "for i in range(0, n_points):\n",
    "    d_position_hf[i], d_velocity_hf[i] = mc.simulation(x_random[i, :])\n",
    "\n",
    "# --- Collect low fidelity points  \n",
    "for i in range(0, n_points):\n",
    "    d_position_lf[i], d_velocity_lf[i] = mc.low_cost_simulation(x_random[i, :])"
   ]
  },
  {
   "cell_type": "markdown",
   "metadata": {},
   "source": [
    "It is time to build the multi-fidelity model for both the position and\n",
    "the velocity.\n",
    "\n",
    "As we did in the previous section we use the emulator to optimize the\n",
    "simulator. In this case we use the high fidelity output of the emulator."
   ]
  },
  {
   "cell_type": "code",
   "execution_count": null,
   "metadata": {},
   "outputs": [],
   "source": [
    "### --- Optimize controller parameters \n",
    "obj_func = lambda x: mc.run_simulation(env, x)[0]\n",
    "obj_func_emulator = lambda x: mc.run_emulation([position_model, velocity_model], x, car_initial_location)[0]\n",
    "objective_multifidelity = GPyOpt.core.task.SingleObjective(obj_func)"
   ]
  },
  {
   "cell_type": "markdown",
   "metadata": {},
   "source": [
    "And we optimize using Bayesian optimzation."
   ]
  },
  {
   "cell_type": "code",
   "execution_count": null,
   "metadata": {},
   "outputs": [],
   "source": [
    "from GPyOpt.experiment_design.random_design import RandomDesign"
   ]
  },
  {
   "cell_type": "code",
   "execution_count": null,
   "metadata": {},
   "outputs": [],
   "source": [
    "model = GPyOpt.models.GPModel(optimize_restarts=5, verbose=False, exact_feval=True, ARD=True)\n",
    "space= [{'name':'linear_1', 'type':'continuous', 'domain':(-1/1.2, +1)},\n",
    "        {'name':'linear_2', 'type':'continuous', 'domain':(-1/0.07, +1/0.07)},\n",
    "        {'name':'constant', 'type':'continuous', 'domain':(-1, +1)}]\n",
    "\n",
    "design_space = GPyOpt.Design_space(space=space)\n",
    "aquisition_optimizer = GPyOpt.optimization.AcquisitionOptimizer(design_space)\n",
    "\n",
    "n_initial_points = 25\n",
    "random_design = RandomDesign(design_space)\n",
    "initial_design = random_design.get_samples(n_initial_points)\n",
    "acquisition = GPyOpt.acquisitions.AcquisitionEI(model, design_space, optimizer=aquisition_optimizer)\n",
    "evaluator = GPyOpt.core.evaluators.Sequential(acquisition)"
   ]
  },
  {
   "cell_type": "code",
   "execution_count": null,
   "metadata": {},
   "outputs": [],
   "source": [
    "bo_multifidelity = GPyOpt.methods.ModularBayesianOptimization(model, design_space, objective_multifidelity, acquisition, evaluator, initial_design)\n",
    "bo_multifidelity.run_optimization(max_iter=50)"
   ]
  },
  {
   "cell_type": "code",
   "execution_count": null,
   "metadata": {},
   "outputs": [],
   "source": [
    "_, _, _, frames = mc.run_simulation(env, np.atleast_2d(bo_multifidelity.x_opt), render=True)\n",
    "anim=mc.animate_frames(frames, 'Best controller with multi-fidelity emulator')"
   ]
  },
  {
   "cell_type": "code",
   "execution_count": null,
   "metadata": {},
   "outputs": [],
   "source": [
    "from IPython.core.display import HTML"
   ]
  },
  {
   "cell_type": "code",
   "execution_count": null,
   "metadata": {},
   "outputs": [],
   "source": [
    "HTML(anim.to_jshtml())"
   ]
  },
  {
   "cell_type": "code",
   "execution_count": null,
   "metadata": {},
   "outputs": [],
   "source": [
    "mc.save_frames(frames, \n",
    "                  diagrams='../slides/diagrams/uq', \n",
    "                  filename='mountain_car_multi_fidelity.html')"
   ]
  },
  {
   "cell_type": "markdown",
   "metadata": {},
   "source": [
    "<iframe src=\"../slides/diagrams/uq/mountain_car_multi_fidelity.html\" width=\"1024\" height=\"768\" allowtransparency=\"true\" frameborder=\"0\">\n",
    "</iframe>\n",
    "And problem solved! We see how the problem is also solved with 250\n",
    "observations of the high fidelity simulator and 250 of the low fidelity\n",
    "simulator.\n",
    "\n",
    "### Conclusion\n",
    "\n",
    "-   Artificial Intelligence and Data Science are fundamentally\n",
    "    different.\n",
    "\n",
    "-   In one you are dealing with data collected by happenstance.\n",
    "\n",
    "-   In the other you are trying to build systems in the real world,\n",
    "    often by actively collecting data.\n",
    "\n",
    "-   Our approaches to systems design are building powerful machines that\n",
    "    will be deployed in evolving environments.\n",
    "\n",
    "### Thanks!\n",
    "\n",
    "-   twitter: @lawrennd\n",
    "-   blog:\n",
    "    [http://inverseprobability.com](http://inverseprobability.com/blog.html)\n",
    "-   [Natural vs Artifical\n",
    "    Intelligence](http://inverseprobability.com/2018/02/06/natural-and-artificial-intelligence)\n",
    "-   [Mike Jordan's Medium\n",
    "    Post](https://medium.com/@mijordan3/artificial-intelligence-the-revolution-hasnt-happened-yet-5e1d5812e1e7)"
   ]
  }
 ],
 "metadata": {
  "kernelspec": {
   "display_name": "Python 3",
   "language": "python",
   "name": "python3"
  },
  "language_info": {
   "codemirror_mode": {
    "name": "ipython",
    "version": 3
   },
   "file_extension": ".py",
   "mimetype": "text/x-python",
   "name": "python",
   "nbconvert_exporter": "python",
   "pygments_lexer": "ipython3",
   "version": "3.6.3"
  }
 },
 "nbformat": 4,
 "nbformat_minor": 2
}
