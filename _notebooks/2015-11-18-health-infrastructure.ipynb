{
 "cells": [
  {
   "cell_type": "markdown",
   "metadata": {
    "slideshow": {
     "slide_type": "slide"
    }
   },
   "source": [
    "# Information Infrastructure for Health\n",
    "\n",
    "## [It's not an Internet of Things: It's an Internet of People](http://inverseprobability.com/2015/11/17/alan-turing-information-infrastructures/)\n",
    "\n",
    "#### ATI Scoping Workshop, Edinburgh\n",
    "\n",
    "### Neil D. Lawrence\n",
    "\n",
    "### 18th November 2015"
   ]
  },
  {
   "cell_type": "markdown",
   "metadata": {
    "slideshow": {
     "slide_type": "slide"
    }
   },
   "source": [
    "### Global Health\n",
    "\n",
    "* [Governance for Global Health Response: Lessons from the Ebola Epidemic](https://royalsociety.org/events/2015/09/reflections-on-ebola-experience/) Royal Society, 15/09/2015\n",
    "    * What lessons do we learn for future global crisis?\n",
    "    * Funding, vaccines, responsibility. \n",
    "    * Little about improving communication.\n",
    "        * Prof Oyewale Tomori: Why didn't Nigeria Succumb?"
   ]
  },
  {
   "cell_type": "markdown",
   "metadata": {
    "slideshow": {
     "slide_type": "slide"
    }
   },
   "source": [
    "### What is an Information Infrastructure?\n",
    "\n",
    "* Talk at ControlPoint \"Right First Time\" Day.\n",
    "    * Audience of Utility companies: Gas, Water, Electric.\n",
    "* What would a modern Water network look like?\n",
    "    * Would we build such massive infrastructure? \n",
    "    * It seems we can't even afford to properly maintain existing architecture."
   ]
  },
  {
   "cell_type": "markdown",
   "metadata": {
    "slideshow": {
     "slide_type": "slide"
    }
   },
   "source": [
    "### Data Science in Africa\n",
    "\n",
    "[![](https://i.guim.co.uk/img/static/sys-images/Guardian/Pix/pictures/2015/8/24/1440405078313/5dfd3ed4-4362-4479-94b1-2c4716f76836-1020x612.jpeg?w=1920&q=85&auto=format&sharp=10&s=a7fb7b85a4001bf3c3849dac0a8f0b9e)](http://www.theguardian.com/media-network/2015/aug/25/africa-benefit-data-science-information)"
   ]
  },
  {
   "cell_type": "markdown",
   "metadata": {
    "slideshow": {
     "slide_type": "slide"
    }
   },
   "source": [
    "### Data Science in Kenya\n",
    "\n",
    "* IBM Nairobi: Monitoring Small Farms\n",
    "* Makerere University: \n",
    "    * Crop Monitoring (Ernest Mbweze)\n",
    "    * Kudu: Distributed Bid Matching (Kenneth Bwire)\n",
    "\n",
    "* Collaboration with UN Global Pulse and Makerere\n",
    "    * Disease Monitoring with Gaussian Processes (Ricardo Andrade Pacheco, Martin Mubangizi, John Quinn & NL)"
   ]
  },
  {
   "cell_type": "markdown",
   "metadata": {
    "slideshow": {
     "slide_type": "slide"
    }
   },
   "source": [
    "### Farr Institute at HeRC\n",
    "\n",
    "* Manchester and [HeRC](http://www.herc.ac.uk/)\n",
    "    * Devolution of power in Social and Health to Manchester Region.\n",
    "* Manchester has long led in Health Informatics (Iain Buchan & Connected Health Cities)\n",
    "    * Agenda extends acoss N8"
   ]
  },
  {
   "cell_type": "markdown",
   "metadata": {
    "slideshow": {
     "slide_type": "slide"
    }
   },
   "source": [
    "### UK - Where do we Lack Infrastructure\n",
    "\n",
    "**Case Study: Mental Health**\n",
    "\n",
    "* [NewMind Network](http://www.informatics.manchester.ac.uk/NewMind/Pages/default.aspx) (led by Chris Taylor)\n",
    "    \n",
    "    * Early Diagnosis of Dementia, Parkinsons.\n",
    "    * Support for Bipolar disorder\n",
    "    * What are the implications for Humans?\n",
    "    \n",
    "*  Clinicians, patients, device manufacturers.\n",
    "    \n",
    "    * Ideal domain for data & learning\n",
    "    \n",
    "    * [London meeting next week](http://www.informatics.manchester.ac.uk/NewMind/Pages/UpcomingNewMindEvents.aspx)\n",
    "   "
   ]
  },
  {
   "cell_type": "markdown",
   "metadata": {
    "slideshow": {
     "slide_type": "slide"
    }
   },
   "source": [
    "### Major Challenge\n",
    "\n",
    "* \"Data Liquidity\"\n",
    "    * If we can't get to the data we can't learn.\n",
    "* Clinical Interests\n",
    "    * Hard-won data is hard to obtain.\n",
    "    * Working better in computational biology than health informatics?\n",
    "    * Is it patient interests or practitioner interests?"
   ]
  },
  {
   "cell_type": "markdown",
   "metadata": {
    "slideshow": {
     "slide_type": "slide"
    }
   },
   "source": [
    "### Technical Challenges\n",
    "\n",
    "* **Interconnecting** data\n",
    "    * Data of different types/modalities.\n",
    "    * Weighting of text, images, clinical tests, genomics, transcriptomics, social media, music listening, loyalty card.\n",
    "\n",
    "* **Scale**: When Big Data is Small\n",
    "\n",
    "* **Massively** Missing Data\n",
    "\n",
    "* **Steaming** nature of data\n",
    "    * Health vs Advertising\n",
    "    \n",
    "Time horizon: 10 years?"
   ]
  },
  {
   "cell_type": "markdown",
   "metadata": {
    "slideshow": {
     "slide_type": "slide"
    }
   },
   "source": [
    "### Social Challenges\n",
    "\n",
    "* **Interconnecting** data\n",
    "    * Loss of privacy and trust [care.data fiasco](http://www.theguardian.com/commentisfree/2014/feb/28/care-data-is-in-chaos)\n",
    "    \n",
    "* Models of **data ownership** \n",
    "    * Data protection (actually *people* protection)\n",
    "    * Carphone Warehouse and TalkTalk. \n",
    "    * Need for a [\"Digital Enlightenment\"](http://www.theguardian.com/media-network/2015/nov/16/information-barons-threaten-autonomy-privacy-online) \n",
    "\n",
    "* [Jonathan Price: Doughty Street Chambers](http://www.doughtystreet.co.uk/barristers/profile/jonathan-price)\n",
    "    \n",
    "* [Co-evolution of Law and Technology](http://www.theguardian.com/media-network/2015/apr/02/rules-digital-technology-internet-bill-rights)\n",
    "    \n",
    "Time horizon: ???\n",
    "    "
   ]
  },
  {
   "cell_type": "markdown",
   "metadata": {
    "slideshow": {
     "slide_type": "slide"
    }
   },
   "source": [
    "### Answer?\n",
    "\n",
    "* Closer integration of technical and social solutions.\n",
    "\n",
    "* It is not enough to provide centralised learning solutions working on large data.\n",
    "    * inference integrated within information infrastructure\n",
    "    \n",
    "* More focus on \n",
    "    * information leakage, \n",
    "    * frameworks of trust,\n",
    "    * user-centric models for learning and data storage "
   ]
  },
  {
   "cell_type": "markdown",
   "metadata": {
    "slideshow": {
     "slide_type": "slide"
    }
   },
   "source": [
    "### Where does the ATI come in?\n",
    "\n",
    "* Open meeting September 2014:\n",
    "    * [\"Critical mass\"](http://inverseprobability.com/2014/10/01/alan-turing-institute-critical-mass-or-incubated-lungs/) \n",
    "    * But no-one could define what that meant!\n",
    "* Leadership + Critical Mass *can* do something\n",
    "    * Enabling the social revolution requires a technical revolution.\n",
    "* A Coalition of the Competent\n",
    "* Co**r**evolution of technology, law and society.\n",
    "    * This needs multi-million pound institutes to achieve."
   ]
  }
 ],
 "metadata": {
  "celltoolbar": "Slideshow",
  "kernelspec": {
   "display_name": "Python 3",
   "language": "python",
   "name": "python3"
  },
  "language_info": {
   "codemirror_mode": {
    "name": "ipython",
    "version": 3
   },
   "file_extension": ".py",
   "mimetype": "text/x-python",
   "name": "python",
   "nbconvert_exporter": "python",
   "pygments_lexer": "ipython3",
   "version": "3.4.4"
  }
 },
 "nbformat": 4,
 "nbformat_minor": 0
}
