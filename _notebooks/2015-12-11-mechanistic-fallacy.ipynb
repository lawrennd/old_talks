{
 "cells": [
  {
   "cell_type": "markdown",
   "metadata": {
    "slideshow": {
     "slide_type": "slide"
    }
   },
   "source": [
    "# The Mechanistic Fallacy and Modelling how we Think\n",
    "\n",
    "\n",
    "### Neil Lawrence\n",
    "\n",
    "\n",
    "\n",
    "### NIPS Workshop on Statistical Methods for Understanding Neural Systems\n",
    "### 11th December 2015"
   ]
  },
  {
   "cell_type": "markdown",
   "metadata": {
    "collapsed": false,
    "slideshow": {
     "slide_type": "slide"
    }
   },
   "source": [
    "<img src='http://i.kinja-img.com/gawker-media/image/upload/deyeok4cwaagmaj04sba.jpg', width=80%>"
   ]
  },
  {
   "cell_type": "markdown",
   "metadata": {
    "slideshow": {
     "slide_type": "slide"
    }
   },
   "source": [
    "<img src='https://upload.wikimedia.org/wikipedia/commons/a/a6/Professor_Lucifer_Butts.gif', width=60%>"
   ]
  },
  {
   "cell_type": "markdown",
   "metadata": {
    "slideshow": {
     "slide_type": "slide"
    }
   },
   "source": [
    "<img src='https://upload.wikimedia.org/wikipedia/commons/c/c4/IP_stack_connections.svg', width=60%>"
   ]
  },
  {
   "cell_type": "markdown",
   "metadata": {
    "slideshow": {
     "slide_type": "slide"
    }
   },
   "source": [
    "<img src=\"./diagrams/mouse-47172.svg\", width=80%>"
   ]
  },
  {
   "cell_type": "markdown",
   "metadata": {
    "slideshow": {
     "slide_type": "slide"
    }
   },
   "source": [
    "<img src='https://upload.wikimedia.org/wikipedia/commons/7/7c/Hilbert_InfoGrowth.png', width=100%>"
   ]
  },
  {
   "cell_type": "markdown",
   "metadata": {
    "slideshow": {
     "slide_type": "slide"
    }
   },
   "source": [
    "<img src='https://upload.wikimedia.org/wikipedia/commons/4/46/BigData_2267x1146_white.png', width=70%>"
   ]
  },
  {
   "cell_type": "markdown",
   "metadata": {
    "slideshow": {
     "slide_type": "slide"
    }
   },
   "source": [
    "<img src='https://upload.wikimedia.org/wikipedia/en/8/87/HTM_Hierarchy_example.png', width=80%>"
   ]
  },
  {
   "cell_type": "markdown",
   "metadata": {
    "slideshow": {
     "slide_type": "slide"
    }
   },
   "source": [
    "<img src='https://c2.staticflickr.com/4/3051/3038434448_8d996fb859_o_d.jpg',width=60%>"
   ]
  },
  {
   "cell_type": "markdown",
   "metadata": {
    "slideshow": {
     "slide_type": "slide"
    }
   },
   "source": [
    "<img src='https://upload.wikimedia.org/wikipedia/commons/4/4f/Strand_paget.jpg', width=80%>"
   ]
  },
  {
   "cell_type": "markdown",
   "metadata": {
    "slideshow": {
     "slide_type": "slide"
    }
   },
   "source": [
    "<img src='http://3.bp.blogspot.com/-_Dp02atN98o/TqTuvH6iu9I/AAAAAAAACXE/Fzr4VyJnt3c/s640/Trolley_1.jpg', width=80%>"
   ]
  },
  {
   "cell_type": "markdown",
   "metadata": {
    "slideshow": {
     "slide_type": "slide"
    }
   },
   "source": [
    "<img src='http://1.bp.blogspot.com/-rwViqfceTvc/TqTu7xCK9XI/AAAAAAAACXM/t2VApw5eAcc/s640/trolley2.jpg', width=80%>"
   ]
  },
  {
   "cell_type": "markdown",
   "metadata": {
    "collapsed": false,
    "slideshow": {
     "slide_type": "slide"
    }
   },
   "source": [
    "<img src='https://upload.wikimedia.org/wikipedia/en/3/3f/Elephantboyposter.jpg', height=80%>"
   ]
  },
  {
   "cell_type": "markdown",
   "metadata": {
    "collapsed": false,
    "slideshow": {
     "slide_type": "slide"
    }
   },
   "source": [
    "<img src='http://righteousmind.com/wp-content/uploads/2012/01/The-Righteous-Mind-Cover1.png', height=80%>"
   ]
  },
  {
   "cell_type": "markdown",
   "metadata": {
    "collapsed": false,
    "slideshow": {
     "slide_type": "slide"
    }
   },
   "source": [
    "<img src='http://ecx.images-amazon.com/images/I/81yeeIXikrL.jpg', width=30%>"
   ]
  },
  {
   "cell_type": "markdown",
   "metadata": {
    "collapsed": false,
    "slideshow": {
     "slide_type": "slide"
    }
   },
   "source": [
    "<img src='http://image.slidesharecdn.com/lotfidegosuperego-110703204335-phpapp01/95/lotf-id-ego-superego-4-728.jpg', width=80%>"
   ]
  },
  {
   "cell_type": "markdown",
   "metadata": {
    "slideshow": {
     "slide_type": "slide"
    }
   },
   "source": [
    "<table border=\"0\">\n",
    "<tr><td><img src='https://upload.wikimedia.org/wikipedia/commons/4/46/BigData_2267x1146_white.png'></td><td><img src='https://upload.wikimedia.org/wikipedia/commons/a/a6/Professor_Lucifer_Butts.gif'></td></tr>\n",
    "</table>"
   ]
  },
  {
   "cell_type": "markdown",
   "metadata": {
    "slideshow": {
     "slide_type": "slide"
    }
   },
   "source": [
    "<img src=\"https://advancedoptimizationatharvard.files.wordpress.com/2014/04/capture.png?w=1326&h=655\" width='40%'>"
   ]
  },
  {
   "cell_type": "markdown",
   "metadata": {
    "slideshow": {
     "slide_type": "slide"
    }
   },
   "source": [
    "<img src=\"./diagrams/systemOneAsSurrogate.png\" width='80%'>"
   ]
  },
  {
   "cell_type": "code",
   "execution_count": null,
   "metadata": {
    "collapsed": true
   },
   "outputs": [],
   "source": []
  }
 ],
 "metadata": {
  "celltoolbar": "Slideshow",
  "kernelspec": {
   "display_name": "Python 3",
   "language": "python",
   "name": "python3"
  },
  "language_info": {
   "codemirror_mode": {
    "name": "ipython",
    "version": 3
   },
   "file_extension": ".py",
   "mimetype": "text/x-python",
   "name": "python",
   "nbconvert_exporter": "python",
   "pygments_lexer": "ipython3",
   "version": "3.4.4"
  }
 },
 "nbformat": 4,
 "nbformat_minor": 0
}
